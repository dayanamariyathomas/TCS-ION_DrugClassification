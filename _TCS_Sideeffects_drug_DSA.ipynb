{
 "cells": [
  {
   "cell_type": "markdown",
   "id": "2c00f8a6",
   "metadata": {},
   "source": [
    "Installing Faker to generate realistic and random data for various purposes. It provides a wide range of data types and functionalities to generate fake data, including names, addresses, phone numbers, email addresses, dates, and more."
   ]
  },
  {
   "cell_type": "code",
   "execution_count": 1,
   "id": "dc07f600",
   "metadata": {},
   "outputs": [
    {
     "name": "stdout",
     "output_type": "stream",
     "text": [
      "Requirement already satisfied: faker in c:\\users\\dayana\\anaconda3\\lib\\site-packages (18.11.2)\n",
      "Requirement already satisfied: python-dateutil>=2.4 in c:\\users\\dayana\\anaconda3\\lib\\site-packages (from faker) (2.8.2)\n",
      "Requirement already satisfied: six>=1.5 in c:\\users\\dayana\\anaconda3\\lib\\site-packages (from python-dateutil>=2.4->faker) (1.16.0)\n",
      "Note: you may need to restart the kernel to use updated packages.\n"
     ]
    }
   ],
   "source": [
    "pip install faker"
   ]
  },
  {
   "cell_type": "markdown",
   "id": "b07d38eb",
   "metadata": {},
   "source": [
    "# Installing Necessary Libraries"
   ]
  },
  {
   "cell_type": "code",
   "execution_count": 2,
   "id": "16d0b351",
   "metadata": {},
   "outputs": [],
   "source": [
    "from faker import Faker\n",
    "import numpy as np\n",
    "import pandas as pd\n",
    "from random import choice, sample\n",
    "import matplotlib.pyplot as plt\n",
    "import seaborn as sns\n",
    "%matplotlib inline\n",
    "\n",
    "import warnings\n",
    "warnings.filterwarnings('ignore')"
   ]
  },
  {
   "cell_type": "code",
   "execution_count": 3,
   "id": "dee83da9",
   "metadata": {},
   "outputs": [],
   "source": [
    "df = Faker()"
   ]
  },
  {
   "cell_type": "markdown",
   "id": "6b388815",
   "metadata": {},
   "source": [
    "# Creating a Name column"
   ]
  },
  {
   "cell_type": "code",
   "execution_count": 4,
   "id": "ce526dfb",
   "metadata": {},
   "outputs": [],
   "source": [
    "def create_names(n):\n",
    "    names = []\n",
    "    for _ in range(n):\n",
    "        names.append(df.name())\n",
    "    return names"
   ]
  },
  {
   "cell_type": "code",
   "execution_count": 5,
   "id": "033356c1",
   "metadata": {},
   "outputs": [],
   "source": [
    "name = create_names(400000)"
   ]
  },
  {
   "cell_type": "code",
   "execution_count": 6,
   "id": "30ea61fc",
   "metadata": {},
   "outputs": [
    {
     "data": {
      "text/html": [
       "<div>\n",
       "<style scoped>\n",
       "    .dataframe tbody tr th:only-of-type {\n",
       "        vertical-align: middle;\n",
       "    }\n",
       "\n",
       "    .dataframe tbody tr th {\n",
       "        vertical-align: top;\n",
       "    }\n",
       "\n",
       "    .dataframe thead th {\n",
       "        text-align: right;\n",
       "    }\n",
       "</style>\n",
       "<table border=\"1\" class=\"dataframe\">\n",
       "  <thead>\n",
       "    <tr style=\"text-align: right;\">\n",
       "      <th></th>\n",
       "      <th>Name</th>\n",
       "    </tr>\n",
       "  </thead>\n",
       "  <tbody>\n",
       "    <tr>\n",
       "      <th>0</th>\n",
       "      <td>Amanda Morales</td>\n",
       "    </tr>\n",
       "    <tr>\n",
       "      <th>1</th>\n",
       "      <td>Matthew Greene</td>\n",
       "    </tr>\n",
       "    <tr>\n",
       "      <th>2</th>\n",
       "      <td>Sara Bates</td>\n",
       "    </tr>\n",
       "    <tr>\n",
       "      <th>3</th>\n",
       "      <td>Roberto Kelly</td>\n",
       "    </tr>\n",
       "    <tr>\n",
       "      <th>4</th>\n",
       "      <td>Joseph Henson</td>\n",
       "    </tr>\n",
       "  </tbody>\n",
       "</table>\n",
       "</div>"
      ],
      "text/plain": [
       "             Name\n",
       "0  Amanda Morales\n",
       "1  Matthew Greene\n",
       "2      Sara Bates\n",
       "3   Roberto Kelly\n",
       "4   Joseph Henson"
      ]
     },
     "execution_count": 6,
     "metadata": {},
     "output_type": "execute_result"
    }
   ],
   "source": [
    "df_name = pd.DataFrame(list(zip(name)),columns = ['Name'])\n",
    "df_name.head()"
   ]
  },
  {
   "cell_type": "code",
   "execution_count": 7,
   "id": "1da1657e",
   "metadata": {},
   "outputs": [
    {
     "data": {
      "text/plain": [
       "(400000, 1)"
      ]
     },
     "execution_count": 7,
     "metadata": {},
     "output_type": "execute_result"
    }
   ],
   "source": [
    "df_name.shape"
   ]
  },
  {
   "cell_type": "markdown",
   "id": "d23159d8",
   "metadata": {},
   "source": [
    "# Creating a race column"
   ]
  },
  {
   "cell_type": "code",
   "execution_count": 8,
   "id": "c9cea8a5",
   "metadata": {},
   "outputs": [],
   "source": [
    "def weighted_cartesian_choice(*iterables):\n",
    "    # An arbitrary number of tuple or lists,each consisting of population and weights.weighted_cartesian_choice returns a list \n",
    "    #with a chocie from each population\n",
    "    \n",
    "    res = []\n",
    "    for population, weights in iterables:\n",
    "     #normalize weight:\n",
    "        weights = np.array(weights) / sum(weights)\n",
    "        lst = np.random.choice(population, p=weights)\n",
    "        res.append(lst)\n",
    "    return res\n",
    "race = (['White','Hispanic', 'Black','Asian'], \n",
    "        [.32,.28,.22,.18])\n",
    "\n",
    "list=[]\n",
    "for i in range(400000):\n",
    "    res = weighted_cartesian_choice(race)\n",
    "    list.append(res)"
   ]
  },
  {
   "cell_type": "code",
   "execution_count": 9,
   "id": "13d31034",
   "metadata": {},
   "outputs": [
    {
     "data": {
      "text/html": [
       "<div>\n",
       "<style scoped>\n",
       "    .dataframe tbody tr th:only-of-type {\n",
       "        vertical-align: middle;\n",
       "    }\n",
       "\n",
       "    .dataframe tbody tr th {\n",
       "        vertical-align: top;\n",
       "    }\n",
       "\n",
       "    .dataframe thead th {\n",
       "        text-align: right;\n",
       "    }\n",
       "</style>\n",
       "<table border=\"1\" class=\"dataframe\">\n",
       "  <thead>\n",
       "    <tr style=\"text-align: right;\">\n",
       "      <th></th>\n",
       "      <th>Race</th>\n",
       "    </tr>\n",
       "  </thead>\n",
       "  <tbody>\n",
       "    <tr>\n",
       "      <th>0</th>\n",
       "      <td>Black</td>\n",
       "    </tr>\n",
       "    <tr>\n",
       "      <th>1</th>\n",
       "      <td>Black</td>\n",
       "    </tr>\n",
       "    <tr>\n",
       "      <th>2</th>\n",
       "      <td>Hispanic</td>\n",
       "    </tr>\n",
       "    <tr>\n",
       "      <th>3</th>\n",
       "      <td>Hispanic</td>\n",
       "    </tr>\n",
       "    <tr>\n",
       "      <th>4</th>\n",
       "      <td>White</td>\n",
       "    </tr>\n",
       "  </tbody>\n",
       "</table>\n",
       "</div>"
      ],
      "text/plain": [
       "       Race\n",
       "0     Black\n",
       "1     Black\n",
       "2  Hispanic\n",
       "3  Hispanic\n",
       "4     White"
      ]
     },
     "execution_count": 9,
     "metadata": {},
     "output_type": "execute_result"
    }
   ],
   "source": [
    "df_race=pd.DataFrame(list, columns = ['Race'])\n",
    "df_race.head()"
   ]
  },
  {
   "cell_type": "markdown",
   "id": "d95bfa6d",
   "metadata": {},
   "source": [
    "# Concatenating new columns to create final dataset"
   ]
  },
  {
   "cell_type": "code",
   "execution_count": 10,
   "id": "d5f9c0a8",
   "metadata": {},
   "outputs": [],
   "source": [
    "df_nr = pd.concat([df_name, df_race], axis=1).reindex(df_race.index)"
   ]
  },
  {
   "cell_type": "code",
   "execution_count": 11,
   "id": "93500653",
   "metadata": {},
   "outputs": [],
   "source": [
    "df_drugs = pd.read_csv('webmd.csv')"
   ]
  },
  {
   "cell_type": "code",
   "execution_count": 12,
   "id": "bb1b00cd",
   "metadata": {},
   "outputs": [
    {
     "data": {
      "text/html": [
       "<div>\n",
       "<style scoped>\n",
       "    .dataframe tbody tr th:only-of-type {\n",
       "        vertical-align: middle;\n",
       "    }\n",
       "\n",
       "    .dataframe tbody tr th {\n",
       "        vertical-align: top;\n",
       "    }\n",
       "\n",
       "    .dataframe thead th {\n",
       "        text-align: right;\n",
       "    }\n",
       "</style>\n",
       "<table border=\"1\" class=\"dataframe\">\n",
       "  <thead>\n",
       "    <tr style=\"text-align: right;\">\n",
       "      <th></th>\n",
       "      <th>Name</th>\n",
       "      <th>Race</th>\n",
       "      <th>Age</th>\n",
       "      <th>Condition</th>\n",
       "      <th>Date</th>\n",
       "      <th>Drug</th>\n",
       "      <th>DrugId</th>\n",
       "      <th>EaseofUse</th>\n",
       "      <th>Effectiveness</th>\n",
       "      <th>Reviews</th>\n",
       "      <th>Satisfaction</th>\n",
       "      <th>Sex</th>\n",
       "      <th>Sides</th>\n",
       "      <th>UsefulCount</th>\n",
       "    </tr>\n",
       "  </thead>\n",
       "  <tbody>\n",
       "    <tr>\n",
       "      <th>0</th>\n",
       "      <td>Amanda Morales</td>\n",
       "      <td>Black</td>\n",
       "      <td>75 or over</td>\n",
       "      <td>Stuffy Nose</td>\n",
       "      <td>9/21/2014</td>\n",
       "      <td>25dph-7.5peh</td>\n",
       "      <td>146724.0</td>\n",
       "      <td>5.0</td>\n",
       "      <td>5.0</td>\n",
       "      <td>I'm a retired physician and of all the meds I ...</td>\n",
       "      <td>5.0</td>\n",
       "      <td>Male</td>\n",
       "      <td>Drowsiness,  dizziness ,  dry mouth /nose/thro...</td>\n",
       "      <td>0.0</td>\n",
       "    </tr>\n",
       "    <tr>\n",
       "      <th>1</th>\n",
       "      <td>Matthew Greene</td>\n",
       "      <td>Black</td>\n",
       "      <td>25-34</td>\n",
       "      <td>Cold Symptoms</td>\n",
       "      <td>1/13/2011</td>\n",
       "      <td>25dph-7.5peh</td>\n",
       "      <td>146724.0</td>\n",
       "      <td>5.0</td>\n",
       "      <td>5.0</td>\n",
       "      <td>cleared me right up even with my throat hurtin...</td>\n",
       "      <td>5.0</td>\n",
       "      <td>Female</td>\n",
       "      <td>Drowsiness,  dizziness ,  dry mouth /nose/thro...</td>\n",
       "      <td>1.0</td>\n",
       "    </tr>\n",
       "    <tr>\n",
       "      <th>2</th>\n",
       "      <td>Sara Bates</td>\n",
       "      <td>Hispanic</td>\n",
       "      <td>65-74</td>\n",
       "      <td>Other</td>\n",
       "      <td>7/16/2012</td>\n",
       "      <td>warfarin (bulk) 100 % powder</td>\n",
       "      <td>144731.0</td>\n",
       "      <td>2.0</td>\n",
       "      <td>3.0</td>\n",
       "      <td>why did my PTINR go from a normal of 2.5 to ov...</td>\n",
       "      <td>3.0</td>\n",
       "      <td>Female</td>\n",
       "      <td></td>\n",
       "      <td>0.0</td>\n",
       "    </tr>\n",
       "    <tr>\n",
       "      <th>3</th>\n",
       "      <td>Roberto Kelly</td>\n",
       "      <td>Hispanic</td>\n",
       "      <td>75 or over</td>\n",
       "      <td>Other</td>\n",
       "      <td>9/23/2010</td>\n",
       "      <td>warfarin (bulk) 100 % powder</td>\n",
       "      <td>144731.0</td>\n",
       "      <td>2.0</td>\n",
       "      <td>2.0</td>\n",
       "      <td>FALLING AND DON'T REALISE IT</td>\n",
       "      <td>1.0</td>\n",
       "      <td>Female</td>\n",
       "      <td></td>\n",
       "      <td>0.0</td>\n",
       "    </tr>\n",
       "    <tr>\n",
       "      <th>4</th>\n",
       "      <td>Joseph Henson</td>\n",
       "      <td>White</td>\n",
       "      <td>35-44</td>\n",
       "      <td>Other</td>\n",
       "      <td>1/6/2009</td>\n",
       "      <td>warfarin (bulk) 100 % powder</td>\n",
       "      <td>144731.0</td>\n",
       "      <td>1.0</td>\n",
       "      <td>1.0</td>\n",
       "      <td>My grandfather was prescribed this medication ...</td>\n",
       "      <td>1.0</td>\n",
       "      <td>Male</td>\n",
       "      <td></td>\n",
       "      <td>1.0</td>\n",
       "    </tr>\n",
       "  </tbody>\n",
       "</table>\n",
       "</div>"
      ],
      "text/plain": [
       "             Name      Race         Age      Condition       Date  \\\n",
       "0  Amanda Morales     Black  75 or over    Stuffy Nose  9/21/2014   \n",
       "1  Matthew Greene     Black       25-34  Cold Symptoms  1/13/2011   \n",
       "2      Sara Bates  Hispanic       65-74          Other  7/16/2012   \n",
       "3   Roberto Kelly  Hispanic  75 or over          Other  9/23/2010   \n",
       "4   Joseph Henson     White       35-44          Other   1/6/2009   \n",
       "\n",
       "                           Drug    DrugId  EaseofUse  Effectiveness  \\\n",
       "0                  25dph-7.5peh  146724.0        5.0            5.0   \n",
       "1                  25dph-7.5peh  146724.0        5.0            5.0   \n",
       "2  warfarin (bulk) 100 % powder  144731.0        2.0            3.0   \n",
       "3  warfarin (bulk) 100 % powder  144731.0        2.0            2.0   \n",
       "4  warfarin (bulk) 100 % powder  144731.0        1.0            1.0   \n",
       "\n",
       "                                             Reviews  Satisfaction     Sex  \\\n",
       "0  I'm a retired physician and of all the meds I ...           5.0    Male   \n",
       "1  cleared me right up even with my throat hurtin...           5.0  Female   \n",
       "2  why did my PTINR go from a normal of 2.5 to ov...           3.0  Female   \n",
       "3                       FALLING AND DON'T REALISE IT           1.0  Female   \n",
       "4  My grandfather was prescribed this medication ...           1.0    Male   \n",
       "\n",
       "                                               Sides  UsefulCount  \n",
       "0  Drowsiness,  dizziness ,  dry mouth /nose/thro...          0.0  \n",
       "1  Drowsiness,  dizziness ,  dry mouth /nose/thro...          1.0  \n",
       "2                                                             0.0  \n",
       "3                                                             0.0  \n",
       "4                                                             1.0  "
      ]
     },
     "execution_count": 12,
     "metadata": {},
     "output_type": "execute_result"
    }
   ],
   "source": [
    "data_drugs = pd.concat([df_nr, df_drugs], axis=1).reindex(df_drugs.index)\n",
    "data_drugs.head()"
   ]
  },
  {
   "cell_type": "code",
   "execution_count": 13,
   "id": "88162d44",
   "metadata": {},
   "outputs": [],
   "source": [
    "#Converting dataframe into CSV file\n",
    "data_drugs = data_drugs.to_csv('dataset_drugs.csv', index=False)"
   ]
  },
  {
   "cell_type": "code",
   "execution_count": 14,
   "id": "3b025a82",
   "metadata": {},
   "outputs": [
    {
     "data": {
      "text/html": [
       "<div>\n",
       "<style scoped>\n",
       "    .dataframe tbody tr th:only-of-type {\n",
       "        vertical-align: middle;\n",
       "    }\n",
       "\n",
       "    .dataframe tbody tr th {\n",
       "        vertical-align: top;\n",
       "    }\n",
       "\n",
       "    .dataframe thead th {\n",
       "        text-align: right;\n",
       "    }\n",
       "</style>\n",
       "<table border=\"1\" class=\"dataframe\">\n",
       "  <thead>\n",
       "    <tr style=\"text-align: right;\">\n",
       "      <th></th>\n",
       "      <th>Name</th>\n",
       "      <th>Race</th>\n",
       "      <th>Age</th>\n",
       "      <th>Condition</th>\n",
       "      <th>Date</th>\n",
       "      <th>Drug</th>\n",
       "      <th>DrugId</th>\n",
       "      <th>EaseofUse</th>\n",
       "      <th>Effectiveness</th>\n",
       "      <th>Reviews</th>\n",
       "      <th>Satisfaction</th>\n",
       "      <th>Sex</th>\n",
       "      <th>Sides</th>\n",
       "      <th>UsefulCount</th>\n",
       "    </tr>\n",
       "  </thead>\n",
       "  <tbody>\n",
       "    <tr>\n",
       "      <th>0</th>\n",
       "      <td>Amanda Morales</td>\n",
       "      <td>Black</td>\n",
       "      <td>75 or over</td>\n",
       "      <td>Stuffy Nose</td>\n",
       "      <td>9/21/2014</td>\n",
       "      <td>25dph-7.5peh</td>\n",
       "      <td>146724.0</td>\n",
       "      <td>5.0</td>\n",
       "      <td>5.0</td>\n",
       "      <td>I'm a retired physician and of all the meds I ...</td>\n",
       "      <td>5.0</td>\n",
       "      <td>Male</td>\n",
       "      <td>Drowsiness,  dizziness ,  dry mouth /nose/thro...</td>\n",
       "      <td>0.0</td>\n",
       "    </tr>\n",
       "    <tr>\n",
       "      <th>1</th>\n",
       "      <td>Matthew Greene</td>\n",
       "      <td>Black</td>\n",
       "      <td>25-34</td>\n",
       "      <td>Cold Symptoms</td>\n",
       "      <td>1/13/2011</td>\n",
       "      <td>25dph-7.5peh</td>\n",
       "      <td>146724.0</td>\n",
       "      <td>5.0</td>\n",
       "      <td>5.0</td>\n",
       "      <td>cleared me right up even with my throat hurtin...</td>\n",
       "      <td>5.0</td>\n",
       "      <td>Female</td>\n",
       "      <td>Drowsiness,  dizziness ,  dry mouth /nose/thro...</td>\n",
       "      <td>1.0</td>\n",
       "    </tr>\n",
       "    <tr>\n",
       "      <th>2</th>\n",
       "      <td>Sara Bates</td>\n",
       "      <td>Hispanic</td>\n",
       "      <td>65-74</td>\n",
       "      <td>Other</td>\n",
       "      <td>7/16/2012</td>\n",
       "      <td>warfarin (bulk) 100 % powder</td>\n",
       "      <td>144731.0</td>\n",
       "      <td>2.0</td>\n",
       "      <td>3.0</td>\n",
       "      <td>why did my PTINR go from a normal of 2.5 to ov...</td>\n",
       "      <td>3.0</td>\n",
       "      <td>Female</td>\n",
       "      <td></td>\n",
       "      <td>0.0</td>\n",
       "    </tr>\n",
       "    <tr>\n",
       "      <th>3</th>\n",
       "      <td>Roberto Kelly</td>\n",
       "      <td>Hispanic</td>\n",
       "      <td>75 or over</td>\n",
       "      <td>Other</td>\n",
       "      <td>9/23/2010</td>\n",
       "      <td>warfarin (bulk) 100 % powder</td>\n",
       "      <td>144731.0</td>\n",
       "      <td>2.0</td>\n",
       "      <td>2.0</td>\n",
       "      <td>FALLING AND DON'T REALISE IT</td>\n",
       "      <td>1.0</td>\n",
       "      <td>Female</td>\n",
       "      <td></td>\n",
       "      <td>0.0</td>\n",
       "    </tr>\n",
       "    <tr>\n",
       "      <th>4</th>\n",
       "      <td>Joseph Henson</td>\n",
       "      <td>White</td>\n",
       "      <td>35-44</td>\n",
       "      <td>Other</td>\n",
       "      <td>1/6/2009</td>\n",
       "      <td>warfarin (bulk) 100 % powder</td>\n",
       "      <td>144731.0</td>\n",
       "      <td>1.0</td>\n",
       "      <td>1.0</td>\n",
       "      <td>My grandfather was prescribed this medication ...</td>\n",
       "      <td>1.0</td>\n",
       "      <td>Male</td>\n",
       "      <td></td>\n",
       "      <td>1.0</td>\n",
       "    </tr>\n",
       "  </tbody>\n",
       "</table>\n",
       "</div>"
      ],
      "text/plain": [
       "             Name      Race         Age      Condition       Date  \\\n",
       "0  Amanda Morales     Black  75 or over    Stuffy Nose  9/21/2014   \n",
       "1  Matthew Greene     Black       25-34  Cold Symptoms  1/13/2011   \n",
       "2      Sara Bates  Hispanic       65-74          Other  7/16/2012   \n",
       "3   Roberto Kelly  Hispanic  75 or over          Other  9/23/2010   \n",
       "4   Joseph Henson     White       35-44          Other   1/6/2009   \n",
       "\n",
       "                           Drug    DrugId  EaseofUse  Effectiveness  \\\n",
       "0                  25dph-7.5peh  146724.0        5.0            5.0   \n",
       "1                  25dph-7.5peh  146724.0        5.0            5.0   \n",
       "2  warfarin (bulk) 100 % powder  144731.0        2.0            3.0   \n",
       "3  warfarin (bulk) 100 % powder  144731.0        2.0            2.0   \n",
       "4  warfarin (bulk) 100 % powder  144731.0        1.0            1.0   \n",
       "\n",
       "                                             Reviews  Satisfaction     Sex  \\\n",
       "0  I'm a retired physician and of all the meds I ...           5.0    Male   \n",
       "1  cleared me right up even with my throat hurtin...           5.0  Female   \n",
       "2  why did my PTINR go from a normal of 2.5 to ov...           3.0  Female   \n",
       "3                       FALLING AND DON'T REALISE IT           1.0  Female   \n",
       "4  My grandfather was prescribed this medication ...           1.0    Male   \n",
       "\n",
       "                                               Sides  UsefulCount  \n",
       "0  Drowsiness,  dizziness ,  dry mouth /nose/thro...          0.0  \n",
       "1  Drowsiness,  dizziness ,  dry mouth /nose/thro...          1.0  \n",
       "2                                                             0.0  \n",
       "3                                                             0.0  \n",
       "4                                                             1.0  "
      ]
     },
     "execution_count": 14,
     "metadata": {},
     "output_type": "execute_result"
    }
   ],
   "source": [
    "#Loading the Dataset\n",
    "df1 = pd.read_csv('dataset_drugs.csv')\n",
    "df1.head()"
   ]
  },
  {
   "cell_type": "code",
   "execution_count": 15,
   "id": "78de68a2",
   "metadata": {},
   "outputs": [
    {
     "name": "stdout",
     "output_type": "stream",
     "text": [
      "<class 'pandas.core.frame.DataFrame'>\n",
      "RangeIndex: 362806 entries, 0 to 362805\n",
      "Data columns (total 14 columns):\n",
      " #   Column         Non-Null Count   Dtype  \n",
      "---  ------         --------------   -----  \n",
      " 0   Name           362806 non-null  object \n",
      " 1   Race           362806 non-null  object \n",
      " 2   Age            362806 non-null  object \n",
      " 3   Condition      362806 non-null  object \n",
      " 4   Date           362806 non-null  object \n",
      " 5   Drug           362806 non-null  object \n",
      " 6   DrugId         362806 non-null  float64\n",
      " 7   EaseofUse      362806 non-null  float64\n",
      " 8   Effectiveness  362806 non-null  float64\n",
      " 9   Reviews        362769 non-null  object \n",
      " 10  Satisfaction   362806 non-null  float64\n",
      " 11  Sex            362806 non-null  object \n",
      " 12  Sides          362806 non-null  object \n",
      " 13  UsefulCount    362806 non-null  float64\n",
      "dtypes: float64(5), object(9)\n",
      "memory usage: 38.8+ MB\n"
     ]
    }
   ],
   "source": [
    "df1.info()"
   ]
  },
  {
   "cell_type": "code",
   "execution_count": 16,
   "id": "ce8a2140",
   "metadata": {},
   "outputs": [
    {
     "data": {
      "text/plain": [
       "(362806, 14)"
      ]
     },
     "execution_count": 16,
     "metadata": {},
     "output_type": "execute_result"
    }
   ],
   "source": [
    "df1.shape"
   ]
  },
  {
   "cell_type": "code",
   "execution_count": 17,
   "id": "21b5a956",
   "metadata": {},
   "outputs": [
    {
     "data": {
      "text/plain": [
       "Name              0\n",
       "Race              0\n",
       "Age               0\n",
       "Condition         0\n",
       "Date              0\n",
       "Drug              0\n",
       "DrugId            0\n",
       "EaseofUse         0\n",
       "Effectiveness     0\n",
       "Reviews          37\n",
       "Satisfaction      0\n",
       "Sex               0\n",
       "Sides             0\n",
       "UsefulCount       0\n",
       "dtype: int64"
      ]
     },
     "execution_count": 17,
     "metadata": {},
     "output_type": "execute_result"
    }
   ],
   "source": [
    "df1.isnull().sum()"
   ]
  },
  {
   "cell_type": "code",
   "execution_count": 18,
   "id": "e3dea79a",
   "metadata": {},
   "outputs": [
    {
     "data": {
      "text/plain": [
       "Name              object\n",
       "Race              object\n",
       "Age               object\n",
       "Condition         object\n",
       "Date              object\n",
       "Drug              object\n",
       "DrugId           float64\n",
       "EaseofUse        float64\n",
       "Effectiveness    float64\n",
       "Reviews           object\n",
       "Satisfaction     float64\n",
       "Sex               object\n",
       "Sides             object\n",
       "UsefulCount      float64\n",
       "dtype: object"
      ]
     },
     "execution_count": 18,
     "metadata": {},
     "output_type": "execute_result"
    }
   ],
   "source": [
    "df1.dtypes"
   ]
  },
  {
   "cell_type": "markdown",
   "id": "7838e2cb",
   "metadata": {},
   "source": [
    "# # Descriptive Statistics"
   ]
  },
  {
   "cell_type": "code",
   "execution_count": 19,
   "id": "20031c99",
   "metadata": {},
   "outputs": [
    {
     "data": {
      "text/html": [
       "<div>\n",
       "<style scoped>\n",
       "    .dataframe tbody tr th:only-of-type {\n",
       "        vertical-align: middle;\n",
       "    }\n",
       "\n",
       "    .dataframe tbody tr th {\n",
       "        vertical-align: top;\n",
       "    }\n",
       "\n",
       "    .dataframe thead th {\n",
       "        text-align: right;\n",
       "    }\n",
       "</style>\n",
       "<table border=\"1\" class=\"dataframe\">\n",
       "  <thead>\n",
       "    <tr style=\"text-align: right;\">\n",
       "      <th></th>\n",
       "      <th>DrugId</th>\n",
       "      <th>EaseofUse</th>\n",
       "      <th>Effectiveness</th>\n",
       "      <th>Satisfaction</th>\n",
       "      <th>UsefulCount</th>\n",
       "    </tr>\n",
       "  </thead>\n",
       "  <tbody>\n",
       "    <tr>\n",
       "      <th>count</th>\n",
       "      <td>362806.000000</td>\n",
       "      <td>362806.000000</td>\n",
       "      <td>362806.000000</td>\n",
       "      <td>362806.000000</td>\n",
       "      <td>362806.000000</td>\n",
       "    </tr>\n",
       "    <tr>\n",
       "      <th>mean</th>\n",
       "      <td>36879.370774</td>\n",
       "      <td>4.019829</td>\n",
       "      <td>3.532061</td>\n",
       "      <td>3.135408</td>\n",
       "      <td>6.744916</td>\n",
       "    </tr>\n",
       "    <tr>\n",
       "      <th>std</th>\n",
       "      <td>52624.412971</td>\n",
       "      <td>1.317711</td>\n",
       "      <td>1.455961</td>\n",
       "      <td>1.611106</td>\n",
       "      <td>9.324240</td>\n",
       "    </tr>\n",
       "    <tr>\n",
       "      <th>min</th>\n",
       "      <td>1.000000</td>\n",
       "      <td>1.000000</td>\n",
       "      <td>1.000000</td>\n",
       "      <td>1.000000</td>\n",
       "      <td>0.000000</td>\n",
       "    </tr>\n",
       "    <tr>\n",
       "      <th>25%</th>\n",
       "      <td>4896.000000</td>\n",
       "      <td>3.000000</td>\n",
       "      <td>3.000000</td>\n",
       "      <td>1.000000</td>\n",
       "      <td>1.000000</td>\n",
       "    </tr>\n",
       "    <tr>\n",
       "      <th>50%</th>\n",
       "      <td>9548.000000</td>\n",
       "      <td>5.000000</td>\n",
       "      <td>4.000000</td>\n",
       "      <td>3.000000</td>\n",
       "      <td>4.000000</td>\n",
       "    </tr>\n",
       "    <tr>\n",
       "      <th>75%</th>\n",
       "      <td>63522.000000</td>\n",
       "      <td>5.000000</td>\n",
       "      <td>5.000000</td>\n",
       "      <td>5.000000</td>\n",
       "      <td>9.000000</td>\n",
       "    </tr>\n",
       "    <tr>\n",
       "      <th>max</th>\n",
       "      <td>178546.000000</td>\n",
       "      <td>10.000000</td>\n",
       "      <td>10.000000</td>\n",
       "      <td>10.000000</td>\n",
       "      <td>255.000000</td>\n",
       "    </tr>\n",
       "  </tbody>\n",
       "</table>\n",
       "</div>"
      ],
      "text/plain": [
       "              DrugId      EaseofUse  Effectiveness   Satisfaction  \\\n",
       "count  362806.000000  362806.000000  362806.000000  362806.000000   \n",
       "mean    36879.370774       4.019829       3.532061       3.135408   \n",
       "std     52624.412971       1.317711       1.455961       1.611106   \n",
       "min         1.000000       1.000000       1.000000       1.000000   \n",
       "25%      4896.000000       3.000000       3.000000       1.000000   \n",
       "50%      9548.000000       5.000000       4.000000       3.000000   \n",
       "75%     63522.000000       5.000000       5.000000       5.000000   \n",
       "max    178546.000000      10.000000      10.000000      10.000000   \n",
       "\n",
       "         UsefulCount  \n",
       "count  362806.000000  \n",
       "mean        6.744916  \n",
       "std         9.324240  \n",
       "min         0.000000  \n",
       "25%         1.000000  \n",
       "50%         4.000000  \n",
       "75%         9.000000  \n",
       "max       255.000000  "
      ]
     },
     "execution_count": 19,
     "metadata": {},
     "output_type": "execute_result"
    }
   ],
   "source": [
    "df1.describe()"
   ]
  },
  {
   "cell_type": "code",
   "execution_count": 20,
   "id": "3ceaa25d",
   "metadata": {},
   "outputs": [
    {
     "data": {
      "text/html": [
       "<div>\n",
       "<style scoped>\n",
       "    .dataframe tbody tr th:only-of-type {\n",
       "        vertical-align: middle;\n",
       "    }\n",
       "\n",
       "    .dataframe tbody tr th {\n",
       "        vertical-align: top;\n",
       "    }\n",
       "\n",
       "    .dataframe thead th {\n",
       "        text-align: right;\n",
       "    }\n",
       "</style>\n",
       "<table border=\"1\" class=\"dataframe\">\n",
       "  <thead>\n",
       "    <tr style=\"text-align: right;\">\n",
       "      <th></th>\n",
       "      <th>count</th>\n",
       "      <th>mean</th>\n",
       "      <th>std</th>\n",
       "      <th>min</th>\n",
       "      <th>25%</th>\n",
       "      <th>50%</th>\n",
       "      <th>75%</th>\n",
       "      <th>max</th>\n",
       "    </tr>\n",
       "  </thead>\n",
       "  <tbody>\n",
       "    <tr>\n",
       "      <th>DrugId</th>\n",
       "      <td>362806.0</td>\n",
       "      <td>36879.370774</td>\n",
       "      <td>52624.412971</td>\n",
       "      <td>1.0</td>\n",
       "      <td>4896.0</td>\n",
       "      <td>9548.0</td>\n",
       "      <td>63522.0</td>\n",
       "      <td>178546.0</td>\n",
       "    </tr>\n",
       "    <tr>\n",
       "      <th>EaseofUse</th>\n",
       "      <td>362806.0</td>\n",
       "      <td>4.019829</td>\n",
       "      <td>1.317711</td>\n",
       "      <td>1.0</td>\n",
       "      <td>3.0</td>\n",
       "      <td>5.0</td>\n",
       "      <td>5.0</td>\n",
       "      <td>10.0</td>\n",
       "    </tr>\n",
       "    <tr>\n",
       "      <th>Effectiveness</th>\n",
       "      <td>362806.0</td>\n",
       "      <td>3.532061</td>\n",
       "      <td>1.455961</td>\n",
       "      <td>1.0</td>\n",
       "      <td>3.0</td>\n",
       "      <td>4.0</td>\n",
       "      <td>5.0</td>\n",
       "      <td>10.0</td>\n",
       "    </tr>\n",
       "    <tr>\n",
       "      <th>Satisfaction</th>\n",
       "      <td>362806.0</td>\n",
       "      <td>3.135408</td>\n",
       "      <td>1.611106</td>\n",
       "      <td>1.0</td>\n",
       "      <td>1.0</td>\n",
       "      <td>3.0</td>\n",
       "      <td>5.0</td>\n",
       "      <td>10.0</td>\n",
       "    </tr>\n",
       "    <tr>\n",
       "      <th>UsefulCount</th>\n",
       "      <td>362806.0</td>\n",
       "      <td>6.744916</td>\n",
       "      <td>9.324240</td>\n",
       "      <td>0.0</td>\n",
       "      <td>1.0</td>\n",
       "      <td>4.0</td>\n",
       "      <td>9.0</td>\n",
       "      <td>255.0</td>\n",
       "    </tr>\n",
       "  </tbody>\n",
       "</table>\n",
       "</div>"
      ],
      "text/plain": [
       "                  count          mean           std  min     25%     50%  \\\n",
       "DrugId         362806.0  36879.370774  52624.412971  1.0  4896.0  9548.0   \n",
       "EaseofUse      362806.0      4.019829      1.317711  1.0     3.0     5.0   \n",
       "Effectiveness  362806.0      3.532061      1.455961  1.0     3.0     4.0   \n",
       "Satisfaction   362806.0      3.135408      1.611106  1.0     1.0     3.0   \n",
       "UsefulCount    362806.0      6.744916      9.324240  0.0     1.0     4.0   \n",
       "\n",
       "                   75%       max  \n",
       "DrugId         63522.0  178546.0  \n",
       "EaseofUse          5.0      10.0  \n",
       "Effectiveness      5.0      10.0  \n",
       "Satisfaction       5.0      10.0  \n",
       "UsefulCount        9.0     255.0  "
      ]
     },
     "execution_count": 20,
     "metadata": {},
     "output_type": "execute_result"
    }
   ],
   "source": [
    "df1.describe().T"
   ]
  },
  {
   "cell_type": "code",
   "execution_count": 21,
   "id": "ec9d48f0",
   "metadata": {},
   "outputs": [
    {
     "data": {
      "text/html": [
       "<div>\n",
       "<style scoped>\n",
       "    .dataframe tbody tr th:only-of-type {\n",
       "        vertical-align: middle;\n",
       "    }\n",
       "\n",
       "    .dataframe tbody tr th {\n",
       "        vertical-align: top;\n",
       "    }\n",
       "\n",
       "    .dataframe thead th {\n",
       "        text-align: right;\n",
       "    }\n",
       "</style>\n",
       "<table border=\"1\" class=\"dataframe\">\n",
       "  <thead>\n",
       "    <tr style=\"text-align: right;\">\n",
       "      <th></th>\n",
       "      <th>count</th>\n",
       "      <th>unique</th>\n",
       "      <th>top</th>\n",
       "      <th>freq</th>\n",
       "    </tr>\n",
       "  </thead>\n",
       "  <tbody>\n",
       "    <tr>\n",
       "      <th>Name</th>\n",
       "      <td>362806</td>\n",
       "      <td>180798</td>\n",
       "      <td>Michael Smith</td>\n",
       "      <td>166</td>\n",
       "    </tr>\n",
       "    <tr>\n",
       "      <th>Race</th>\n",
       "      <td>362806</td>\n",
       "      <td>4</td>\n",
       "      <td>White</td>\n",
       "      <td>116312</td>\n",
       "    </tr>\n",
       "    <tr>\n",
       "      <th>Age</th>\n",
       "      <td>362806</td>\n",
       "      <td>12</td>\n",
       "      <td>45-54</td>\n",
       "      <td>80043</td>\n",
       "    </tr>\n",
       "    <tr>\n",
       "      <th>Condition</th>\n",
       "      <td>362806</td>\n",
       "      <td>1806</td>\n",
       "      <td>Other</td>\n",
       "      <td>49765</td>\n",
       "    </tr>\n",
       "    <tr>\n",
       "      <th>Date</th>\n",
       "      <td>362806</td>\n",
       "      <td>4524</td>\n",
       "      <td>10/29/2007</td>\n",
       "      <td>404</td>\n",
       "    </tr>\n",
       "    <tr>\n",
       "      <th>Drug</th>\n",
       "      <td>362806</td>\n",
       "      <td>7093</td>\n",
       "      <td>cymbalta</td>\n",
       "      <td>4648</td>\n",
       "    </tr>\n",
       "    <tr>\n",
       "      <th>Reviews</th>\n",
       "      <td>362769</td>\n",
       "      <td>250159</td>\n",
       "      <td></td>\n",
       "      <td>41824</td>\n",
       "    </tr>\n",
       "    <tr>\n",
       "      <th>Sex</th>\n",
       "      <td>362806</td>\n",
       "      <td>3</td>\n",
       "      <td>Female</td>\n",
       "      <td>238226</td>\n",
       "    </tr>\n",
       "    <tr>\n",
       "      <th>Sides</th>\n",
       "      <td>362806</td>\n",
       "      <td>1651</td>\n",
       "      <td></td>\n",
       "      <td>17460</td>\n",
       "    </tr>\n",
       "  </tbody>\n",
       "</table>\n",
       "</div>"
      ],
      "text/plain": [
       "            count  unique            top    freq\n",
       "Name       362806  180798  Michael Smith     166\n",
       "Race       362806       4          White  116312\n",
       "Age        362806      12          45-54   80043\n",
       "Condition  362806    1806          Other   49765\n",
       "Date       362806    4524     10/29/2007     404\n",
       "Drug       362806    7093       cymbalta    4648\n",
       "Reviews    362769  250159                  41824\n",
       "Sex        362806       3         Female  238226\n",
       "Sides      362806    1651                  17460"
      ]
     },
     "execution_count": 21,
     "metadata": {},
     "output_type": "execute_result"
    }
   ],
   "source": [
    "df1.describe(include='object').T"
   ]
  },
  {
   "cell_type": "code",
   "execution_count": 22,
   "id": "ba3460db",
   "metadata": {},
   "outputs": [
    {
     "data": {
      "text/plain": [
       "0"
      ]
     },
     "execution_count": 22,
     "metadata": {},
     "output_type": "execute_result"
    }
   ],
   "source": [
    "#Checking for any duplicate values\n",
    "df1.duplicated().sum()"
   ]
  },
  {
   "cell_type": "code",
   "execution_count": 23,
   "id": "3b804434",
   "metadata": {},
   "outputs": [
    {
     "data": {
      "text/plain": [
       "Index(['Name', 'Race', 'Age', 'Condition', 'Date', 'Drug', 'DrugId',\n",
       "       'EaseofUse', 'Effectiveness', 'Reviews', 'Satisfaction', 'Sex', 'Sides',\n",
       "       'UsefulCount'],\n",
       "      dtype='object')"
      ]
     },
     "execution_count": 23,
     "metadata": {},
     "output_type": "execute_result"
    }
   ],
   "source": [
    "#checking for the column names\n",
    "df1.columns"
   ]
  },
  {
   "cell_type": "code",
   "execution_count": 24,
   "id": "c42b9df8",
   "metadata": {},
   "outputs": [
    {
     "name": "stdout",
     "output_type": "stream",
     "text": [
      "Name : 180798 \n",
      "\n",
      "Race : 4 \n",
      "\n",
      "Age : 12 \n",
      "\n",
      "Condition : 1806 \n",
      "\n",
      "Date : 4524 \n",
      "\n",
      "Drug : 7093 \n",
      "\n",
      "DrugId : 6572 \n",
      "\n",
      "EaseofUse : 7 \n",
      "\n",
      "Effectiveness : 7 \n",
      "\n",
      "Reviews : 250159 \n",
      "\n",
      "Satisfaction : 7 \n",
      "\n",
      "Sex : 3 \n",
      "\n",
      "Sides : 1651 \n",
      "\n",
      "UsefulCount : 148 \n",
      "\n"
     ]
    }
   ],
   "source": [
    "#Unique occurances of each variable\n",
    "for i in df1.columns:\n",
    "    print(i,':',df1[i].nunique(),'\\n')"
   ]
  },
  {
   "cell_type": "markdown",
   "id": "29fb13ad",
   "metadata": {},
   "source": [
    "# Classifying the categorical variables"
   ]
  },
  {
   "cell_type": "code",
   "execution_count": 25,
   "id": "6713a19d",
   "metadata": {},
   "outputs": [
    {
     "data": {
      "text/plain": [
       "['Name', 'Race', 'Age', 'Condition', 'Date', 'Drug', 'Reviews', 'Sex', 'Sides']"
      ]
     },
     "execution_count": 25,
     "metadata": {},
     "output_type": "execute_result"
    }
   ],
   "source": [
    "cat_var = []\n",
    "\n",
    "for column in df1:\n",
    "    if df1[column].dtype == 'O':\n",
    "        cat_var.append(column)\n",
    "cat_var"
   ]
  },
  {
   "cell_type": "code",
   "execution_count": 26,
   "id": "b9c9ad21",
   "metadata": {},
   "outputs": [
    {
     "data": {
      "text/plain": [
       "White       116312\n",
       "Hispanic    101567\n",
       "Black        79851\n",
       "Asian        65076\n",
       "Name: Race, dtype: int64"
      ]
     },
     "execution_count": 26,
     "metadata": {},
     "output_type": "execute_result"
    }
   ],
   "source": [
    "df1['Race'].value_counts()"
   ]
  },
  {
   "cell_type": "code",
   "execution_count": 27,
   "id": "c6ed166b",
   "metadata": {},
   "outputs": [
    {
     "data": {
      "text/plain": [
       "45-54         80043\n",
       "55-64         75136\n",
       "35-44         55011\n",
       "25-34         49718\n",
       "65-74         41216\n",
       "19-24         24230\n",
       "75 or over    15226\n",
       "              12202\n",
       "13-18          7045\n",
       "12-Jul         1644\n",
       "6-Mar           838\n",
       "0-2             497\n",
       "Name: Age, dtype: int64"
      ]
     },
     "execution_count": 27,
     "metadata": {},
     "output_type": "execute_result"
    }
   ],
   "source": [
    "df1['Age'].value_counts()"
   ]
  },
  {
   "cell_type": "code",
   "execution_count": 28,
   "id": "bba7494c",
   "metadata": {},
   "outputs": [
    {
     "data": {
      "text/plain": [
       "Female    238226\n",
       "Male       98043\n",
       "           26537\n",
       "Name: Sex, dtype: int64"
      ]
     },
     "execution_count": 28,
     "metadata": {},
     "output_type": "execute_result"
    }
   ],
   "source": [
    "df1['Sex'].value_counts()"
   ]
  },
  {
   "cell_type": "code",
   "execution_count": 29,
   "id": "f2bc5151",
   "metadata": {},
   "outputs": [
    {
     "data": {
      "text/plain": [
       "cymbalta                                               4648\n",
       "lisinopril                                             4269\n",
       "lisinopril solution                                    4269\n",
       "lexapro                                                4134\n",
       "hydrocodone-acetaminophen                              3944\n",
       "effexor xr                                             3486\n",
       "lyrica                                                 3069\n",
       "tramadol hcl er                                        2932\n",
       "tramadol hcl                                           2932\n",
       "zoloft                                                 2662\n",
       "prednisone tablet, delayed release (enteric coated)    2576\n",
       "prednisone concentrate                                 2576\n",
       "prednisone                                             2576\n",
       "seroquel                                               2446\n",
       "phentermine hcl                                        2367\n",
       "celexa                                                 2224\n",
       "topamax                                                2148\n",
       "topamax capsule, sprinkle                              2148\n",
       "trazodone hcl                                          2099\n",
       "neurontin capsule                                      2078\n",
       "Name: Drug, dtype: int64"
      ]
     },
     "execution_count": 29,
     "metadata": {},
     "output_type": "execute_result"
    }
   ],
   "source": [
    "df1['Drug'].value_counts().head(20)"
   ]
  },
  {
   "cell_type": "markdown",
   "id": "358f2719",
   "metadata": {},
   "source": [
    "# Selection of drug \n",
    "A particular drug named Celexa with DrugId 8603 is selected in building a classification model \n",
    "to determine side effects"
   ]
  },
  {
   "cell_type": "code",
   "execution_count": 30,
   "id": "2d043205",
   "metadata": {},
   "outputs": [
    {
     "data": {
      "text/html": [
       "<div>\n",
       "<style scoped>\n",
       "    .dataframe tbody tr th:only-of-type {\n",
       "        vertical-align: middle;\n",
       "    }\n",
       "\n",
       "    .dataframe tbody tr th {\n",
       "        vertical-align: top;\n",
       "    }\n",
       "\n",
       "    .dataframe thead th {\n",
       "        text-align: right;\n",
       "    }\n",
       "</style>\n",
       "<table border=\"1\" class=\"dataframe\">\n",
       "  <thead>\n",
       "    <tr style=\"text-align: right;\">\n",
       "      <th></th>\n",
       "      <th>Name</th>\n",
       "      <th>Race</th>\n",
       "      <th>Age</th>\n",
       "      <th>Condition</th>\n",
       "      <th>Date</th>\n",
       "      <th>Drug</th>\n",
       "      <th>DrugId</th>\n",
       "      <th>EaseofUse</th>\n",
       "      <th>Effectiveness</th>\n",
       "      <th>Reviews</th>\n",
       "      <th>Satisfaction</th>\n",
       "      <th>Sex</th>\n",
       "      <th>Sides</th>\n",
       "      <th>UsefulCount</th>\n",
       "    </tr>\n",
       "  </thead>\n",
       "  <tbody>\n",
       "    <tr>\n",
       "      <th>355486</th>\n",
       "      <td>Michael Hudson</td>\n",
       "      <td>Black</td>\n",
       "      <td></td>\n",
       "      <td>Depression</td>\n",
       "      <td>2/29/2020</td>\n",
       "      <td>celexa</td>\n",
       "      <td>8603.0</td>\n",
       "      <td>5.0</td>\n",
       "      <td>5.0</td>\n",
       "      <td>No Script or health Insurance needed to place ...</td>\n",
       "      <td>5.0</td>\n",
       "      <td></td>\n",
       "      <td>Nausea ,  dry mouth , loss of appetite, tiredn...</td>\n",
       "      <td>11.0</td>\n",
       "    </tr>\n",
       "    <tr>\n",
       "      <th>355507</th>\n",
       "      <td>Tina Floyd</td>\n",
       "      <td>Black</td>\n",
       "      <td>25-34</td>\n",
       "      <td>Depression</td>\n",
       "      <td>1/7/2020</td>\n",
       "      <td>celexa</td>\n",
       "      <td>8603.0</td>\n",
       "      <td>1.0</td>\n",
       "      <td>4.0</td>\n",
       "      <td>I felt like the depression was at bay, but it ...</td>\n",
       "      <td>2.0</td>\n",
       "      <td>Female</td>\n",
       "      <td>Nausea ,  dry mouth , loss of appetite, tiredn...</td>\n",
       "      <td>0.0</td>\n",
       "    </tr>\n",
       "    <tr>\n",
       "      <th>355521</th>\n",
       "      <td>Alicia Beltran</td>\n",
       "      <td>Asian</td>\n",
       "      <td>19-24</td>\n",
       "      <td>Depression</td>\n",
       "      <td>12/16/2019</td>\n",
       "      <td>celexa</td>\n",
       "      <td>8603.0</td>\n",
       "      <td>4.0</td>\n",
       "      <td>2.0</td>\n",
       "      <td>Was switched to Celexa after Cipralex started ...</td>\n",
       "      <td>2.0</td>\n",
       "      <td>Female</td>\n",
       "      <td>Nausea ,  dry mouth , loss of appetite, tiredn...</td>\n",
       "      <td>1.0</td>\n",
       "    </tr>\n",
       "    <tr>\n",
       "      <th>355543</th>\n",
       "      <td>Logan Griffin</td>\n",
       "      <td>White</td>\n",
       "      <td>65-74</td>\n",
       "      <td>Depression</td>\n",
       "      <td>8/12/2019</td>\n",
       "      <td>celexa</td>\n",
       "      <td>8603.0</td>\n",
       "      <td>5.0</td>\n",
       "      <td>5.0</td>\n",
       "      <td>I have been taking Celexa since it was first a...</td>\n",
       "      <td>5.0</td>\n",
       "      <td></td>\n",
       "      <td>Nausea ,  dry mouth , loss of appetite, tiredn...</td>\n",
       "      <td>5.0</td>\n",
       "    </tr>\n",
       "    <tr>\n",
       "      <th>355564</th>\n",
       "      <td>Timothy Hughes</td>\n",
       "      <td>Asian</td>\n",
       "      <td>25-34</td>\n",
       "      <td>Obsessive Compulsive Disorder</td>\n",
       "      <td>6/2/2019</td>\n",
       "      <td>celexa</td>\n",
       "      <td>8603.0</td>\n",
       "      <td>5.0</td>\n",
       "      <td>5.0</td>\n",
       "      <td>No Script or health Insurance needed to place ...</td>\n",
       "      <td>5.0</td>\n",
       "      <td>Male</td>\n",
       "      <td>Nausea ,  dry mouth , loss of appetite, tiredn...</td>\n",
       "      <td>90.0</td>\n",
       "    </tr>\n",
       "  </tbody>\n",
       "</table>\n",
       "</div>"
      ],
      "text/plain": [
       "                  Name   Race    Age                      Condition  \\\n",
       "355486  Michael Hudson  Black                            Depression   \n",
       "355507      Tina Floyd  Black  25-34                     Depression   \n",
       "355521  Alicia Beltran  Asian  19-24                     Depression   \n",
       "355543   Logan Griffin  White  65-74                     Depression   \n",
       "355564  Timothy Hughes  Asian  25-34  Obsessive Compulsive Disorder   \n",
       "\n",
       "              Date    Drug  DrugId  EaseofUse  Effectiveness  \\\n",
       "355486   2/29/2020  celexa  8603.0        5.0            5.0   \n",
       "355507    1/7/2020  celexa  8603.0        1.0            4.0   \n",
       "355521  12/16/2019  celexa  8603.0        4.0            2.0   \n",
       "355543   8/12/2019  celexa  8603.0        5.0            5.0   \n",
       "355564    6/2/2019  celexa  8603.0        5.0            5.0   \n",
       "\n",
       "                                                  Reviews  Satisfaction  \\\n",
       "355486  No Script or health Insurance needed to place ...           5.0   \n",
       "355507  I felt like the depression was at bay, but it ...           2.0   \n",
       "355521  Was switched to Celexa after Cipralex started ...           2.0   \n",
       "355543  I have been taking Celexa since it was first a...           5.0   \n",
       "355564  No Script or health Insurance needed to place ...           5.0   \n",
       "\n",
       "           Sex                                              Sides  UsefulCount  \n",
       "355486          Nausea ,  dry mouth , loss of appetite, tiredn...         11.0  \n",
       "355507  Female  Nausea ,  dry mouth , loss of appetite, tiredn...          0.0  \n",
       "355521  Female  Nausea ,  dry mouth , loss of appetite, tiredn...          1.0  \n",
       "355543          Nausea ,  dry mouth , loss of appetite, tiredn...          5.0  \n",
       "355564    Male  Nausea ,  dry mouth , loss of appetite, tiredn...         90.0  "
      ]
     },
     "execution_count": 30,
     "metadata": {},
     "output_type": "execute_result"
    }
   ],
   "source": [
    "drug_celexa= df1.loc[(df1['Drug'] =='celexa')]\n",
    "drug_celexa.head(5)"
   ]
  },
  {
   "cell_type": "code",
   "execution_count": 31,
   "id": "490fb8fa",
   "metadata": {},
   "outputs": [
    {
     "data": {
      "text/plain": [
       "(2224, 14)"
      ]
     },
     "execution_count": 31,
     "metadata": {},
     "output_type": "execute_result"
    }
   ],
   "source": [
    "drug_celexa.shape"
   ]
  },
  {
   "cell_type": "code",
   "execution_count": 32,
   "id": "256ced9e",
   "metadata": {},
   "outputs": [
    {
     "data": {
      "text/plain": [
       "Depression                                1227\n",
       "Repeated Episodes of Anxiety               331\n",
       "Panic Disorder                             204\n",
       "Other                                      130\n",
       "Bipolar Depression                         115\n",
       "\"Change of Life\" Signs                      73\n",
       "Posttraumatic Stress Syndrome               66\n",
       "Obsessive Compulsive Disorder               30\n",
       "Major Depressive Disorder                   28\n",
       "Anxiousness associated with Depression      20\n",
       "Name: Condition, dtype: int64"
      ]
     },
     "execution_count": 32,
     "metadata": {},
     "output_type": "execute_result"
    }
   ],
   "source": [
    "drug_celexa['Condition'].value_counts()"
   ]
  },
  {
   "cell_type": "code",
   "execution_count": 33,
   "id": "16e2c062",
   "metadata": {},
   "outputs": [
    {
     "data": {
      "text/plain": [
       "2224"
      ]
     },
     "execution_count": 33,
     "metadata": {},
     "output_type": "execute_result"
    }
   ],
   "source": [
    "drug_celexa['Condition'].value_counts().sum()"
   ]
  },
  {
   "cell_type": "code",
   "execution_count": 34,
   "id": "de79c657",
   "metadata": {},
   "outputs": [],
   "source": [
    "data_new = drug_celexa.copy()"
   ]
  },
  {
   "cell_type": "code",
   "execution_count": 35,
   "id": "5574bd61",
   "metadata": {},
   "outputs": [],
   "source": [
    "data_copy = df1.copy()"
   ]
  },
  {
   "cell_type": "markdown",
   "id": "f6504729",
   "metadata": {},
   "source": [
    "# Data Preprocessing"
   ]
  },
  {
   "cell_type": "code",
   "execution_count": 36,
   "id": "ec749cec",
   "metadata": {},
   "outputs": [],
   "source": [
    "# Handling instances with whitespaces\n",
    "for i in data_new:\n",
    "    data_new[i]=np.where(data_new[i]==\" \",np.NAN,data_new[i])"
   ]
  },
  {
   "cell_type": "code",
   "execution_count": 37,
   "id": "5686c571",
   "metadata": {},
   "outputs": [
    {
     "data": {
      "text/html": [
       "<div>\n",
       "<style scoped>\n",
       "    .dataframe tbody tr th:only-of-type {\n",
       "        vertical-align: middle;\n",
       "    }\n",
       "\n",
       "    .dataframe tbody tr th {\n",
       "        vertical-align: top;\n",
       "    }\n",
       "\n",
       "    .dataframe thead th {\n",
       "        text-align: right;\n",
       "    }\n",
       "</style>\n",
       "<table border=\"1\" class=\"dataframe\">\n",
       "  <thead>\n",
       "    <tr style=\"text-align: right;\">\n",
       "      <th></th>\n",
       "      <th>Name</th>\n",
       "      <th>Race</th>\n",
       "      <th>Age</th>\n",
       "      <th>Condition</th>\n",
       "      <th>Date</th>\n",
       "      <th>Drug</th>\n",
       "      <th>DrugId</th>\n",
       "      <th>EaseofUse</th>\n",
       "      <th>Effectiveness</th>\n",
       "      <th>Reviews</th>\n",
       "      <th>Satisfaction</th>\n",
       "      <th>Sex</th>\n",
       "      <th>Sides</th>\n",
       "      <th>UsefulCount</th>\n",
       "    </tr>\n",
       "  </thead>\n",
       "  <tbody>\n",
       "    <tr>\n",
       "      <th>355486</th>\n",
       "      <td>Michael Hudson</td>\n",
       "      <td>Black</td>\n",
       "      <td>NaN</td>\n",
       "      <td>Depression</td>\n",
       "      <td>2/29/2020</td>\n",
       "      <td>celexa</td>\n",
       "      <td>8603.0</td>\n",
       "      <td>5.0</td>\n",
       "      <td>5.0</td>\n",
       "      <td>No Script or health Insurance needed to place ...</td>\n",
       "      <td>5.0</td>\n",
       "      <td>NaN</td>\n",
       "      <td>Nausea ,  dry mouth , loss of appetite, tiredn...</td>\n",
       "      <td>11.0</td>\n",
       "    </tr>\n",
       "    <tr>\n",
       "      <th>355507</th>\n",
       "      <td>Tina Floyd</td>\n",
       "      <td>Black</td>\n",
       "      <td>25-34</td>\n",
       "      <td>Depression</td>\n",
       "      <td>1/7/2020</td>\n",
       "      <td>celexa</td>\n",
       "      <td>8603.0</td>\n",
       "      <td>1.0</td>\n",
       "      <td>4.0</td>\n",
       "      <td>I felt like the depression was at bay, but it ...</td>\n",
       "      <td>2.0</td>\n",
       "      <td>Female</td>\n",
       "      <td>Nausea ,  dry mouth , loss of appetite, tiredn...</td>\n",
       "      <td>0.0</td>\n",
       "    </tr>\n",
       "    <tr>\n",
       "      <th>355521</th>\n",
       "      <td>Alicia Beltran</td>\n",
       "      <td>Asian</td>\n",
       "      <td>19-24</td>\n",
       "      <td>Depression</td>\n",
       "      <td>12/16/2019</td>\n",
       "      <td>celexa</td>\n",
       "      <td>8603.0</td>\n",
       "      <td>4.0</td>\n",
       "      <td>2.0</td>\n",
       "      <td>Was switched to Celexa after Cipralex started ...</td>\n",
       "      <td>2.0</td>\n",
       "      <td>Female</td>\n",
       "      <td>Nausea ,  dry mouth , loss of appetite, tiredn...</td>\n",
       "      <td>1.0</td>\n",
       "    </tr>\n",
       "    <tr>\n",
       "      <th>355543</th>\n",
       "      <td>Logan Griffin</td>\n",
       "      <td>White</td>\n",
       "      <td>65-74</td>\n",
       "      <td>Depression</td>\n",
       "      <td>8/12/2019</td>\n",
       "      <td>celexa</td>\n",
       "      <td>8603.0</td>\n",
       "      <td>5.0</td>\n",
       "      <td>5.0</td>\n",
       "      <td>I have been taking Celexa since it was first a...</td>\n",
       "      <td>5.0</td>\n",
       "      <td>NaN</td>\n",
       "      <td>Nausea ,  dry mouth , loss of appetite, tiredn...</td>\n",
       "      <td>5.0</td>\n",
       "    </tr>\n",
       "    <tr>\n",
       "      <th>355564</th>\n",
       "      <td>Timothy Hughes</td>\n",
       "      <td>Asian</td>\n",
       "      <td>25-34</td>\n",
       "      <td>Obsessive Compulsive Disorder</td>\n",
       "      <td>6/2/2019</td>\n",
       "      <td>celexa</td>\n",
       "      <td>8603.0</td>\n",
       "      <td>5.0</td>\n",
       "      <td>5.0</td>\n",
       "      <td>No Script or health Insurance needed to place ...</td>\n",
       "      <td>5.0</td>\n",
       "      <td>Male</td>\n",
       "      <td>Nausea ,  dry mouth , loss of appetite, tiredn...</td>\n",
       "      <td>90.0</td>\n",
       "    </tr>\n",
       "  </tbody>\n",
       "</table>\n",
       "</div>"
      ],
      "text/plain": [
       "                  Name   Race    Age                      Condition  \\\n",
       "355486  Michael Hudson  Black    NaN                     Depression   \n",
       "355507      Tina Floyd  Black  25-34                     Depression   \n",
       "355521  Alicia Beltran  Asian  19-24                     Depression   \n",
       "355543   Logan Griffin  White  65-74                     Depression   \n",
       "355564  Timothy Hughes  Asian  25-34  Obsessive Compulsive Disorder   \n",
       "\n",
       "              Date    Drug  DrugId  EaseofUse  Effectiveness  \\\n",
       "355486   2/29/2020  celexa  8603.0        5.0            5.0   \n",
       "355507    1/7/2020  celexa  8603.0        1.0            4.0   \n",
       "355521  12/16/2019  celexa  8603.0        4.0            2.0   \n",
       "355543   8/12/2019  celexa  8603.0        5.0            5.0   \n",
       "355564    6/2/2019  celexa  8603.0        5.0            5.0   \n",
       "\n",
       "                                                  Reviews  Satisfaction  \\\n",
       "355486  No Script or health Insurance needed to place ...           5.0   \n",
       "355507  I felt like the depression was at bay, but it ...           2.0   \n",
       "355521  Was switched to Celexa after Cipralex started ...           2.0   \n",
       "355543  I have been taking Celexa since it was first a...           5.0   \n",
       "355564  No Script or health Insurance needed to place ...           5.0   \n",
       "\n",
       "           Sex                                              Sides  UsefulCount  \n",
       "355486     NaN  Nausea ,  dry mouth , loss of appetite, tiredn...         11.0  \n",
       "355507  Female  Nausea ,  dry mouth , loss of appetite, tiredn...          0.0  \n",
       "355521  Female  Nausea ,  dry mouth , loss of appetite, tiredn...          1.0  \n",
       "355543     NaN  Nausea ,  dry mouth , loss of appetite, tiredn...          5.0  \n",
       "355564    Male  Nausea ,  dry mouth , loss of appetite, tiredn...         90.0  "
      ]
     },
     "execution_count": 37,
     "metadata": {},
     "output_type": "execute_result"
    }
   ],
   "source": [
    "data_new.head()"
   ]
  },
  {
   "cell_type": "code",
   "execution_count": 38,
   "id": "b6fc6c7a",
   "metadata": {},
   "outputs": [
    {
     "data": {
      "text/plain": [
       "Name               0\n",
       "Race               0\n",
       "Age               65\n",
       "Condition          0\n",
       "Date               0\n",
       "Drug               0\n",
       "DrugId             0\n",
       "EaseofUse          0\n",
       "Effectiveness      0\n",
       "Reviews          292\n",
       "Satisfaction       0\n",
       "Sex              100\n",
       "Sides              0\n",
       "UsefulCount        0\n",
       "dtype: int64"
      ]
     },
     "execution_count": 38,
     "metadata": {},
     "output_type": "execute_result"
    }
   ],
   "source": [
    "#checking missing values\n",
    "data_new.isnull().sum()"
   ]
  },
  {
   "cell_type": "code",
   "execution_count": 39,
   "id": "89e37712",
   "metadata": {},
   "outputs": [],
   "source": [
    "# Removing rows with null data\n",
    "data_new=data_new.dropna(axis=0)"
   ]
  },
  {
   "cell_type": "code",
   "execution_count": 40,
   "id": "75d4396a",
   "metadata": {},
   "outputs": [
    {
     "data": {
      "text/plain": [
       "Name             0\n",
       "Race             0\n",
       "Age              0\n",
       "Condition        0\n",
       "Date             0\n",
       "Drug             0\n",
       "DrugId           0\n",
       "EaseofUse        0\n",
       "Effectiveness    0\n",
       "Reviews          0\n",
       "Satisfaction     0\n",
       "Sex              0\n",
       "Sides            0\n",
       "UsefulCount      0\n",
       "dtype: int64"
      ]
     },
     "execution_count": 40,
     "metadata": {},
     "output_type": "execute_result"
    }
   ],
   "source": [
    "data_new.isnull().sum()"
   ]
  },
  {
   "cell_type": "code",
   "execution_count": 41,
   "id": "1ec5476b",
   "metadata": {},
   "outputs": [
    {
     "data": {
      "text/plain": [
       "(1828, 14)"
      ]
     },
     "execution_count": 41,
     "metadata": {},
     "output_type": "execute_result"
    }
   ],
   "source": [
    "data_new.shape"
   ]
  },
  {
   "cell_type": "markdown",
   "id": "f8cb09a0",
   "metadata": {},
   "source": [
    "# Text Processing"
   ]
  },
  {
   "cell_type": "code",
   "execution_count": 42,
   "id": "cb49246b",
   "metadata": {},
   "outputs": [],
   "source": [
    "# converting rows having data other than string datatype into  string.\n",
    "for i in range(0,len(data_new)-1):\n",
    "    if type(data_new.iloc[i]['Sides']) != str:\n",
    "        data_new.iloc[i]['Sides'] = str(data_new.iloc[i]['Sides'])\n",
    "\n",
    "for i in range(0,len(data_new)-1):\n",
    "    if type(data_new.iloc[i]['Reviews']) != str:\n",
    "        data_new.iloc[i]['Reviews'] = str(data_new.iloc[i]['Reviews'])\n",
    "        \n",
    "for i in range(0,len(data_new)-1):\n",
    "    if type(data_new.iloc[i]['Condition']) != str:\n",
    "        data_new.iloc[i]['Condition'] = str(data_new.iloc[i]['Condition'])"
   ]
  },
  {
   "cell_type": "code",
   "execution_count": 43,
   "id": "98484844",
   "metadata": {},
   "outputs": [],
   "source": [
    "import re\n",
    "def cleaning_text(i):\n",
    "    i = re.sub(\"[^A-Za-z\" \"]+\",\" \",i).lower()\n",
    "    i = re.sub(\"[0-9\" \"]+\",\" \",i)\n",
    "    i= re.sub(\"[\\W+\"\"]\", \" \",i)        \n",
    "    w = []\n",
    "    for word in i.split(\" \"):\n",
    "        if len(word)>3:\n",
    "            w.append(word)\n",
    "    return (\" \".join(w))"
   ]
  },
  {
   "cell_type": "markdown",
   "id": "54fe02a2",
   "metadata": {},
   "source": [
    "Side Effects"
   ]
  },
  {
   "cell_type": "code",
   "execution_count": 44,
   "id": "efe875f0",
   "metadata": {},
   "outputs": [
    {
     "data": {
      "text/plain": [
       "355507    nausea mouth loss appetite tiredness drowsines...\n",
       "355521    nausea mouth loss appetite tiredness drowsines...\n",
       "355564    nausea mouth loss appetite tiredness drowsines...\n",
       "355603    nausea mouth loss appetite tiredness drowsines...\n",
       "355649    nausea mouth loss appetite tiredness drowsines...\n",
       "                                ...                        \n",
       "361502    nausea mouth loss appetite tiredness drowsines...\n",
       "361503    nausea mouth loss appetite tiredness drowsines...\n",
       "361504    nausea mouth loss appetite tiredness drowsines...\n",
       "361505    nausea mouth loss appetite tiredness drowsines...\n",
       "361506    nausea mouth loss appetite tiredness drowsines...\n",
       "Name: Sides, Length: 1828, dtype: object"
      ]
     },
     "execution_count": 44,
     "metadata": {},
     "output_type": "execute_result"
    }
   ],
   "source": [
    "data_new.Sides= data_new.Sides.apply(cleaning_text)\n",
    "data_new.Sides"
   ]
  },
  {
   "cell_type": "code",
   "execution_count": 45,
   "id": "2608a74c",
   "metadata": {},
   "outputs": [
    {
     "name": "stderr",
     "output_type": "stream",
     "text": [
      "[nltk_data] Downloading package stopwords to\n",
      "[nltk_data]     C:\\Users\\Dayana\\AppData\\Roaming\\nltk_data...\n",
      "[nltk_data]   Package stopwords is already up-to-date!\n"
     ]
    }
   ],
   "source": [
    "import nltk\n",
    "nltk.download('stopwords')\n",
    "from nltk.corpus import stopwords\n",
    "\n",
    "stop_words = stopwords.words('english')\n",
    "data_new['Sides'] = data_new['Sides'].apply(lambda x: ' '.join([word for word in x.split() if word not in (stop_words)]))"
   ]
  },
  {
   "cell_type": "code",
   "execution_count": 46,
   "id": "1c0e6bf2",
   "metadata": {},
   "outputs": [
    {
     "data": {
      "text/plain": [
       "355507    nausea mouth loss appetite tiredness drowsines...\n",
       "355521    nausea mouth loss appetite tiredness drowsines...\n",
       "355564    nausea mouth loss appetite tiredness drowsines...\n",
       "355603    nausea mouth loss appetite tiredness drowsines...\n",
       "355649    nausea mouth loss appetite tiredness drowsines...\n",
       "                                ...                        \n",
       "361502    nausea mouth loss appetite tiredness drowsines...\n",
       "361503    nausea mouth loss appetite tiredness drowsines...\n",
       "361504    nausea mouth loss appetite tiredness drowsines...\n",
       "361505    nausea mouth loss appetite tiredness drowsines...\n",
       "361506    nausea mouth loss appetite tiredness drowsines...\n",
       "Name: Sides, Length: 1828, dtype: object"
      ]
     },
     "execution_count": 46,
     "metadata": {},
     "output_type": "execute_result"
    }
   ],
   "source": [
    "data_new.Sides"
   ]
  },
  {
   "cell_type": "markdown",
   "id": "0dd7e8e8",
   "metadata": {},
   "source": [
    "Reviews"
   ]
  },
  {
   "cell_type": "code",
   "execution_count": 47,
   "id": "19c6df08",
   "metadata": {},
   "outputs": [
    {
     "data": {
      "text/plain": [
       "355507    felt like depression made anxiety skyrocket si...\n",
       "355521    switched celexa after cipralex started working...\n",
       "355564    script health insurance needed place order nic...\n",
       "355603    have been taking celexa around months after be...\n",
       "355649    please have your doctor start lower milligram ...\n",
       "                                ...                        \n",
       "361502    originally prescrobed celexa deal with omgoimg...\n",
       "361503    taking celexa along with wellbutrin this combo...\n",
       "361504    suffer from depression noticed that when forgo...\n",
       "361505    have depression generalized anxiety bulimia ne...\n",
       "361506    have depression anxiety ptsd many many years f...\n",
       "Name: Reviews, Length: 1828, dtype: object"
      ]
     },
     "execution_count": 47,
     "metadata": {},
     "output_type": "execute_result"
    }
   ],
   "source": [
    "data_new.reviews= data_new.Reviews.apply(cleaning_text)\n",
    "data_new.reviews"
   ]
  },
  {
   "cell_type": "code",
   "execution_count": 48,
   "id": "537423df",
   "metadata": {},
   "outputs": [
    {
     "name": "stderr",
     "output_type": "stream",
     "text": [
      "[nltk_data] Downloading package stopwords to\n",
      "[nltk_data]     C:\\Users\\Dayana\\AppData\\Roaming\\nltk_data...\n",
      "[nltk_data]   Package stopwords is already up-to-date!\n"
     ]
    }
   ],
   "source": [
    "import nltk\n",
    "nltk.download('stopwords')\n",
    "from nltk.corpus import stopwords\n",
    "\n",
    "stop_words = stopwords.words('english')\n",
    "data_new['Reviews'] = data_new['Reviews'].apply(lambda x: ' '.join([word for word in x.split() if word not in (stop_words)]))"
   ]
  },
  {
   "cell_type": "code",
   "execution_count": 49,
   "id": "521b201d",
   "metadata": {},
   "outputs": [
    {
     "data": {
      "text/plain": [
       "355507    I felt like depression bay, made anxiety skyro...\n",
       "355521    Was switched Celexa Cipralex started working m...\n",
       "355564    No Script health Insurance needed place order....\n",
       "355603    I taking Celexa around 6 months diagnosed agor...\n",
       "355649    Please doctor start lower milligram ( im 10mg ...\n",
       "                                ...                        \n",
       "361502    I originally prescrobed Celexa deal omgoimg se...\n",
       "361503    I taking Celexa along Wellbutrin xl combo best...\n",
       "361504    I suffer depression noticed I 've forgotten ta...\n",
       "361505    I depression, generalized anxiety, bulimia ner...\n",
       "361506    I depression w/ anxiety PTSD many, many years....\n",
       "Name: Reviews, Length: 1828, dtype: object"
      ]
     },
     "execution_count": 49,
     "metadata": {},
     "output_type": "execute_result"
    }
   ],
   "source": [
    "data_new['Reviews']"
   ]
  },
  {
   "cell_type": "markdown",
   "id": "c527c5b4",
   "metadata": {},
   "source": [
    "Condition"
   ]
  },
  {
   "cell_type": "code",
   "execution_count": 50,
   "id": "308b1dda",
   "metadata": {},
   "outputs": [
    {
     "data": {
      "text/plain": [
       "355507                       depression\n",
       "355521                       depression\n",
       "355564    obsessive compulsive disorder\n",
       "355603                            other\n",
       "355649                   panic disorder\n",
       "                      ...              \n",
       "361502                   panic disorder\n",
       "361503                   panic disorder\n",
       "361504                       depression\n",
       "361505                       depression\n",
       "361506                            other\n",
       "Name: Condition, Length: 1828, dtype: object"
      ]
     },
     "execution_count": 50,
     "metadata": {},
     "output_type": "execute_result"
    }
   ],
   "source": [
    "data_new.Condition=data_new.Condition.apply(cleaning_text)\n",
    "data_new.Condition"
   ]
  },
  {
   "cell_type": "markdown",
   "id": "471a9e46",
   "metadata": {},
   "source": [
    "Handling Age Group"
   ]
  },
  {
   "cell_type": "code",
   "execution_count": 51,
   "id": "f684d002",
   "metadata": {},
   "outputs": [
    {
     "data": {
      "text/plain": [
       "25-34         419\n",
       "45-54         368\n",
       "35-44         368\n",
       "55-64         288\n",
       "19-24         203\n",
       "65-74          90\n",
       "13-18          63\n",
       "75 or over     28\n",
       "12-Jul          1\n",
       "Name: Age, dtype: int64"
      ]
     },
     "execution_count": 51,
     "metadata": {},
     "output_type": "execute_result"
    }
   ],
   "source": [
    "data_new['Age'].value_counts()"
   ]
  },
  {
   "cell_type": "code",
   "execution_count": 52,
   "id": "7524020c",
   "metadata": {},
   "outputs": [
    {
     "data": {
      "text/plain": [
       "array(['25-34', '19-24', '45-54', '13-18', '35-44', '55-64', '65-74',\n",
       "       '75 or over', '12-Jul'], dtype=object)"
      ]
     },
     "execution_count": 52,
     "metadata": {},
     "output_type": "execute_result"
    }
   ],
   "source": [
    "data_new['Age'].unique()"
   ]
  },
  {
   "cell_type": "code",
   "execution_count": 53,
   "id": "6c6f62f3",
   "metadata": {},
   "outputs": [],
   "source": [
    "data_new['Age']=data_new['Age'].str.replace('75 or over','75-100')"
   ]
  },
  {
   "cell_type": "code",
   "execution_count": 54,
   "id": "28595695",
   "metadata": {},
   "outputs": [],
   "source": [
    "data_new = data_new[data_new['Age'] != '12-Jul']"
   ]
  },
  {
   "cell_type": "code",
   "execution_count": 55,
   "id": "e0346456",
   "metadata": {},
   "outputs": [
    {
     "data": {
      "text/plain": [
       "25-34     419\n",
       "45-54     368\n",
       "35-44     368\n",
       "55-64     288\n",
       "19-24     203\n",
       "65-74      90\n",
       "13-18      63\n",
       "75-100     28\n",
       "Name: Age, dtype: int64"
      ]
     },
     "execution_count": 55,
     "metadata": {},
     "output_type": "execute_result"
    }
   ],
   "source": [
    "data_new['Age'].value_counts()"
   ]
  },
  {
   "cell_type": "markdown",
   "id": "25f7efa6",
   "metadata": {},
   "source": [
    "# Handling Outliers"
   ]
  },
  {
   "cell_type": "code",
   "execution_count": 56,
   "id": "334c39b6",
   "metadata": {},
   "outputs": [
    {
     "data": {
      "image/png": "[encoded data removed]",
      "text/plain": [
       "<Figure size 1000x600 with 4 Axes>"
      ]
     },
     "metadata": {},
     "output_type": "display_data"
    }
   ],
   "source": [
    "plt.figure(figsize=(10,6))\n",
    "\n",
    "plt.subplot(2,2,1)\n",
    "plt.boxplot(data_new[\"EaseofUse\"])\n",
    "plt.title(\" Ease Of Use\")\n",
    "\n",
    "plt.subplot(2,2,2)\n",
    "plt.boxplot(data_new[\"Effectiveness\"])\n",
    "plt.title(\" Effectiveness\")\n",
    "\n",
    "plt.subplot(2,2,3)\n",
    "plt.boxplot(data_new[\"Satisfaction\"])\n",
    "plt.title(\" Satisfaction\")\n",
    "\n",
    "plt.subplot(2,2,4)\n",
    "plt.boxplot(data_new[\"UsefulCount\"])\n",
    "plt.title(\" Useful Count\")\n",
    "plt.show()"
   ]
  },
  {
   "cell_type": "code",
   "execution_count": 57,
   "id": "8e3d60fd",
   "metadata": {},
   "outputs": [],
   "source": [
    "# define a function called 'outliers' which returns a list of outliers\n",
    "def outliers(df,ft):\n",
    "    Q1=df[ft].quantile(0.25)\n",
    "    Q3=df[ft].quantile(0.75)\n",
    "    IQR=Q3-Q1\n",
    "    lower=Q1-1.5*IQR\n",
    "    upper=Q3+1.5*IQR\n",
    "#create list to store indexes of outliers\n",
    "    ls= df.index[(df[ft]<lower) | (df[ft]>upper)]\n",
    "    return ls"
   ]
  },
  {
   "cell_type": "code",
   "execution_count": 58,
   "id": "fa2a8b4c",
   "metadata": {},
   "outputs": [
    {
     "data": {
      "text/plain": [
       "[355564,\n",
       " 355806,\n",
       " 355906,\n",
       " 355918,\n",
       " 356048,\n",
       " 356118,\n",
       " 356161,\n",
       " 356199,\n",
       " 356219,\n",
       " 356415,\n",
       " 356489,\n",
       " 356555,\n",
       " 356591,\n",
       " 356597,\n",
       " 356645,\n",
       " 356663,\n",
       " 356697,\n",
       " 356853,\n",
       " 356855,\n",
       " 356861,\n",
       " 356873,\n",
       " 356875,\n",
       " 356907,\n",
       " 356939,\n",
       " 356983,\n",
       " 356989,\n",
       " 357031,\n",
       " 357061,\n",
       " 357067,\n",
       " 357189,\n",
       " 357195,\n",
       " 357219,\n",
       " 357223,\n",
       " 357233,\n",
       " 357235,\n",
       " 357239,\n",
       " 357243,\n",
       " 357245,\n",
       " 357251,\n",
       " 357293,\n",
       " 357299,\n",
       " 357353,\n",
       " 357395,\n",
       " 357421,\n",
       " 357433,\n",
       " 357437,\n",
       " 357491,\n",
       " 357495,\n",
       " 357539,\n",
       " 357565,\n",
       " 357583,\n",
       " 357599,\n",
       " 357605,\n",
       " 357678,\n",
       " 357711,\n",
       " 357716,\n",
       " 357747,\n",
       " 357956,\n",
       " 358178,\n",
       " 358226,\n",
       " 358248,\n",
       " 358262,\n",
       " 358276,\n",
       " 358478,\n",
       " 358510,\n",
       " 358516,\n",
       " 358530,\n",
       " 358554,\n",
       " 358570,\n",
       " 358576,\n",
       " 358608,\n",
       " 358640,\n",
       " 358836,\n",
       " 358910,\n",
       " 359557,\n",
       " 359954,\n",
       " 360072,\n",
       " 360097,\n",
       " 360122,\n",
       " 360133,\n",
       " 360256,\n",
       " 360269,\n",
       " 360296,\n",
       " 360387,\n",
       " 360407,\n",
       " 360413,\n",
       " 360434,\n",
       " 360436,\n",
       " 360437,\n",
       " 360516,\n",
       " 360627,\n",
       " 360686,\n",
       " 360700,\n",
       " 360725,\n",
       " 360739,\n",
       " 360887,\n",
       " 360991,\n",
       " 361005,\n",
       " 361083,\n",
       " 361159,\n",
       " 361179,\n",
       " 361195,\n",
       " 361286,\n",
       " 361304,\n",
       " 361305,\n",
       " 361310,\n",
       " 361324,\n",
       " 361325,\n",
       " 361356,\n",
       " 361363,\n",
       " 361482,\n",
       " 355507,\n",
       " 355774,\n",
       " 355826,\n",
       " 355969,\n",
       " 356138,\n",
       " 356172,\n",
       " 356228,\n",
       " 356300,\n",
       " 356312,\n",
       " 356353,\n",
       " 356357,\n",
       " 356361,\n",
       " 356381,\n",
       " 356387,\n",
       " 356393,\n",
       " 356403,\n",
       " 356407,\n",
       " 356425,\n",
       " 356435,\n",
       " 356465,\n",
       " 356473,\n",
       " 356475,\n",
       " 356485,\n",
       " 356521,\n",
       " 356525,\n",
       " 356537,\n",
       " 356539,\n",
       " 356561,\n",
       " 356589,\n",
       " 356601,\n",
       " 356615,\n",
       " 356623,\n",
       " 356659,\n",
       " 356683,\n",
       " 356691,\n",
       " 356797,\n",
       " 356859,\n",
       " 356877,\n",
       " 356917,\n",
       " 356941,\n",
       " 357035,\n",
       " 357043,\n",
       " 357059,\n",
       " 357091,\n",
       " 357129,\n",
       " 357157,\n",
       " 357227,\n",
       " 357249,\n",
       " 357255,\n",
       " 357257,\n",
       " 357301,\n",
       " 357331,\n",
       " 357343,\n",
       " 357385,\n",
       " 357487,\n",
       " 357489,\n",
       " 357509,\n",
       " 357609,\n",
       " 357614,\n",
       " 357658,\n",
       " 357675,\n",
       " 357682,\n",
       " 357688,\n",
       " 357705,\n",
       " 357754,\n",
       " 357775,\n",
       " 357796,\n",
       " 357812,\n",
       " 357851,\n",
       " 357929,\n",
       " 358017,\n",
       " 358024,\n",
       " 358041,\n",
       " 358097,\n",
       " 358154,\n",
       " 358196,\n",
       " 358214,\n",
       " 358216,\n",
       " 358222,\n",
       " 358236,\n",
       " 358244,\n",
       " 358272,\n",
       " 358274,\n",
       " 358306,\n",
       " 358322,\n",
       " 358364,\n",
       " 358434,\n",
       " 358458,\n",
       " 358460,\n",
       " 358462,\n",
       " 358480,\n",
       " 358482,\n",
       " 358488,\n",
       " 358502,\n",
       " 358556,\n",
       " 358560,\n",
       " 358602,\n",
       " 358682,\n",
       " 358704,\n",
       " 358726,\n",
       " 358772,\n",
       " 358794,\n",
       " 358796,\n",
       " 358828,\n",
       " 358832,\n",
       " 358840,\n",
       " 358850,\n",
       " 358864,\n",
       " 358880,\n",
       " 358946,\n",
       " 358964,\n",
       " 358974,\n",
       " 358988,\n",
       " 359074,\n",
       " 359108,\n",
       " 359160,\n",
       " 359166,\n",
       " 359170,\n",
       " 359192,\n",
       " 359198,\n",
       " 359234,\n",
       " 359238,\n",
       " 359296,\n",
       " 359343,\n",
       " 359361,\n",
       " 359400,\n",
       " 359465,\n",
       " 359511,\n",
       " 359523,\n",
       " 359615,\n",
       " 359843,\n",
       " 359991,\n",
       " 360039,\n",
       " 360060,\n",
       " 360066,\n",
       " 360071,\n",
       " 360132,\n",
       " 360186,\n",
       " 360190,\n",
       " 360234,\n",
       " 360235,\n",
       " 360241,\n",
       " 360249,\n",
       " 360313,\n",
       " 360386,\n",
       " 360415,\n",
       " 360461,\n",
       " 360491,\n",
       " 360539,\n",
       " 360555,\n",
       " 360579,\n",
       " 360588,\n",
       " 360594,\n",
       " 360605,\n",
       " 360624,\n",
       " 360674,\n",
       " 360705,\n",
       " 360718,\n",
       " 360767,\n",
       " 360778,\n",
       " 360797,\n",
       " 360798,\n",
       " 360943,\n",
       " 360969,\n",
       " 360994,\n",
       " 361114,\n",
       " 361190,\n",
       " 361502,\n",
       " 361506]"
      ]
     },
     "execution_count": 58,
     "metadata": {},
     "output_type": "execute_result"
    }
   ],
   "source": [
    "#create an empty list to store indexes from multiple columns\n",
    "index_list=[]\n",
    "for feature in ['UsefulCount', 'EaseofUse']:\n",
    "    index_list.extend(outliers(data_new,feature))\n",
    "index_list"
   ]
  },
  {
   "cell_type": "code",
   "execution_count": 59,
   "id": "7b5b7550",
   "metadata": {},
   "outputs": [],
   "source": [
    "#define a function called 'remove' which returns a cleaned data without outliers\n",
    "def remove(df,ls):\n",
    "    ls=sorted(set(ls)) #to sort and remove multiple copies(to get unique)\n",
    "    df=df.drop(ls)\n",
    "    return df"
   ]
  },
  {
   "cell_type": "code",
   "execution_count": 60,
   "id": "ee5e3641",
   "metadata": {},
   "outputs": [
    {
     "data": {
      "text/plain": [
       "(1827, 14)"
      ]
     },
     "execution_count": 60,
     "metadata": {},
     "output_type": "execute_result"
    }
   ],
   "source": [
    "data_new.shape"
   ]
  },
  {
   "cell_type": "code",
   "execution_count": 61,
   "id": "656a8f72",
   "metadata": {},
   "outputs": [],
   "source": [
    "data_new=remove(data_new,index_list)"
   ]
  },
  {
   "cell_type": "code",
   "execution_count": 62,
   "id": "e29d0b34",
   "metadata": {},
   "outputs": [
    {
     "data": {
      "text/plain": [
       "(1547, 14)"
      ]
     },
     "execution_count": 62,
     "metadata": {},
     "output_type": "execute_result"
    }
   ],
   "source": [
    "data_new.shape"
   ]
  },
  {
   "cell_type": "code",
   "execution_count": 63,
   "id": "9fc7b852",
   "metadata": {},
   "outputs": [
    {
     "data": {
      "image/png": "[encoded data removed]",
      "text/plain": [
       "<Figure size 1000x600 with 2 Axes>"
      ]
     },
     "metadata": {},
     "output_type": "display_data"
    }
   ],
   "source": [
    "plt.figure(figsize=(10, 6))\n",
    "\n",
    "plt.subplot(2, 2, 1)\n",
    "plt.boxplot(data_new[\"EaseofUse\"])\n",
    "plt.title(\"Ease Of Use\")\n",
    "\n",
    "plt.subplot(2, 2, 2)\n",
    "plt.boxplot(data_new[\"UsefulCount\"])\n",
    "plt.title(\"Useful Count\")\n",
    "\n",
    "plt.show()"
   ]
  },
  {
   "cell_type": "markdown",
   "id": "7cb28911",
   "metadata": {},
   "source": [
    "Satisfaction column"
   ]
  },
  {
   "cell_type": "code",
   "execution_count": 64,
   "id": "393ca69f",
   "metadata": {},
   "outputs": [
    {
     "data": {
      "text/plain": [
       "5.0    521\n",
       "4.0    341\n",
       "3.0    289\n",
       "1.0    237\n",
       "2.0    159\n",
       "Name: Satisfaction, dtype: int64"
      ]
     },
     "execution_count": 64,
     "metadata": {},
     "output_type": "execute_result"
    }
   ],
   "source": [
    "data_new['Satisfaction'].value_counts()"
   ]
  },
  {
   "cell_type": "markdown",
   "id": "61e5edd0",
   "metadata": {},
   "source": [
    "# Feature Engineering"
   ]
  },
  {
   "cell_type": "code",
   "execution_count": 65,
   "id": "f810fa24",
   "metadata": {},
   "outputs": [],
   "source": [
    "data1=np.where(data_new['Satisfaction'] == 1.0, \"Nil\", data_new['Satisfaction'])\n",
    "data1=np.where(data_new['Satisfaction'] == 2.0, \"Mild\",data1)\n",
    "data1=np.where(data_new['Satisfaction'] == 3.0, \"Moderate\", data1)\n",
    "data1=np.where(data_new['Satisfaction'] == 4.0, \"Severe\", data1)\n",
    "data1=np.where(data_new['Satisfaction'] == 5.0, \"Extreme\",data1)"
   ]
  },
  {
   "cell_type": "code",
   "execution_count": 66,
   "id": "caa73e2d",
   "metadata": {},
   "outputs": [],
   "source": [
    "data_new['SideEffects']=data1"
   ]
  },
  {
   "cell_type": "code",
   "execution_count": 67,
   "id": "cfc7cc9d",
   "metadata": {},
   "outputs": [],
   "source": [
    "#Dropping the 'DrugId' column \n",
    "data_new.drop(['Satisfaction','DrugId'], inplace=True, axis=1)"
   ]
  },
  {
   "cell_type": "code",
   "execution_count": 68,
   "id": "4f2e436d",
   "metadata": {},
   "outputs": [
    {
     "data": {
      "text/html": [
       "<div>\n",
       "<style scoped>\n",
       "    .dataframe tbody tr th:only-of-type {\n",
       "        vertical-align: middle;\n",
       "    }\n",
       "\n",
       "    .dataframe tbody tr th {\n",
       "        vertical-align: top;\n",
       "    }\n",
       "\n",
       "    .dataframe thead th {\n",
       "        text-align: right;\n",
       "    }\n",
       "</style>\n",
       "<table border=\"1\" class=\"dataframe\">\n",
       "  <thead>\n",
       "    <tr style=\"text-align: right;\">\n",
       "      <th></th>\n",
       "      <th>Name</th>\n",
       "      <th>Race</th>\n",
       "      <th>Age</th>\n",
       "      <th>Condition</th>\n",
       "      <th>Date</th>\n",
       "      <th>Drug</th>\n",
       "      <th>EaseofUse</th>\n",
       "      <th>Effectiveness</th>\n",
       "      <th>Reviews</th>\n",
       "      <th>Sex</th>\n",
       "      <th>Sides</th>\n",
       "      <th>UsefulCount</th>\n",
       "      <th>SideEffects</th>\n",
       "    </tr>\n",
       "  </thead>\n",
       "  <tbody>\n",
       "    <tr>\n",
       "      <th>355521</th>\n",
       "      <td>Alicia Beltran</td>\n",
       "      <td>Asian</td>\n",
       "      <td>19-24</td>\n",
       "      <td>depression</td>\n",
       "      <td>12/16/2019</td>\n",
       "      <td>celexa</td>\n",
       "      <td>4.0</td>\n",
       "      <td>2.0</td>\n",
       "      <td>Was switched Celexa Cipralex started working m...</td>\n",
       "      <td>Female</td>\n",
       "      <td>nausea mouth loss appetite tiredness drowsines...</td>\n",
       "      <td>1.0</td>\n",
       "      <td>Mild</td>\n",
       "    </tr>\n",
       "    <tr>\n",
       "      <th>355603</th>\n",
       "      <td>Tyler Proctor</td>\n",
       "      <td>Asian</td>\n",
       "      <td>45-54</td>\n",
       "      <td>other</td>\n",
       "      <td>4/17/2019</td>\n",
       "      <td>celexa</td>\n",
       "      <td>5.0</td>\n",
       "      <td>4.0</td>\n",
       "      <td>I taking Celexa around 6 months diagnosed agor...</td>\n",
       "      <td>Female</td>\n",
       "      <td>nausea mouth loss appetite tiredness drowsines...</td>\n",
       "      <td>1.0</td>\n",
       "      <td>Severe</td>\n",
       "    </tr>\n",
       "    <tr>\n",
       "      <th>355649</th>\n",
       "      <td>Joshua Winters</td>\n",
       "      <td>White</td>\n",
       "      <td>25-34</td>\n",
       "      <td>panic disorder</td>\n",
       "      <td>3/30/2019</td>\n",
       "      <td>celexa</td>\n",
       "      <td>4.0</td>\n",
       "      <td>5.0</td>\n",
       "      <td>Please doctor start lower milligram ( im 10mg ...</td>\n",
       "      <td>Male</td>\n",
       "      <td>nausea mouth loss appetite tiredness drowsines...</td>\n",
       "      <td>1.0</td>\n",
       "      <td>Extreme</td>\n",
       "    </tr>\n",
       "    <tr>\n",
       "      <th>355664</th>\n",
       "      <td>Paul Mccoy</td>\n",
       "      <td>Black</td>\n",
       "      <td>19-24</td>\n",
       "      <td>major depressive disorder</td>\n",
       "      <td>2/21/2019</td>\n",
       "      <td>celexa</td>\n",
       "      <td>5.0</td>\n",
       "      <td>4.0</td>\n",
       "      <td>I feel lot better since I began taking medicat...</td>\n",
       "      <td>Female</td>\n",
       "      <td>nausea mouth loss appetite tiredness drowsines...</td>\n",
       "      <td>0.0</td>\n",
       "      <td>Severe</td>\n",
       "    </tr>\n",
       "    <tr>\n",
       "      <th>355711</th>\n",
       "      <td>Melissa Castro</td>\n",
       "      <td>White</td>\n",
       "      <td>19-24</td>\n",
       "      <td>depression</td>\n",
       "      <td>9/4/2018</td>\n",
       "      <td>celexa</td>\n",
       "      <td>5.0</td>\n",
       "      <td>3.0</td>\n",
       "      <td>It worked made feel physically emotionally dra...</td>\n",
       "      <td>Male</td>\n",
       "      <td>nausea mouth loss appetite tiredness drowsines...</td>\n",
       "      <td>7.0</td>\n",
       "      <td>Moderate</td>\n",
       "    </tr>\n",
       "  </tbody>\n",
       "</table>\n",
       "</div>"
      ],
      "text/plain": [
       "                  Name   Race    Age                  Condition        Date  \\\n",
       "355521  Alicia Beltran  Asian  19-24                 depression  12/16/2019   \n",
       "355603   Tyler Proctor  Asian  45-54                      other   4/17/2019   \n",
       "355649  Joshua Winters  White  25-34             panic disorder   3/30/2019   \n",
       "355664      Paul Mccoy  Black  19-24  major depressive disorder   2/21/2019   \n",
       "355711  Melissa Castro  White  19-24                 depression    9/4/2018   \n",
       "\n",
       "          Drug  EaseofUse  Effectiveness  \\\n",
       "355521  celexa        4.0            2.0   \n",
       "355603  celexa        5.0            4.0   \n",
       "355649  celexa        4.0            5.0   \n",
       "355664  celexa        5.0            4.0   \n",
       "355711  celexa        5.0            3.0   \n",
       "\n",
       "                                                  Reviews     Sex  \\\n",
       "355521  Was switched Celexa Cipralex started working m...  Female   \n",
       "355603  I taking Celexa around 6 months diagnosed agor...  Female   \n",
       "355649  Please doctor start lower milligram ( im 10mg ...    Male   \n",
       "355664  I feel lot better since I began taking medicat...  Female   \n",
       "355711  It worked made feel physically emotionally dra...    Male   \n",
       "\n",
       "                                                    Sides  UsefulCount  \\\n",
       "355521  nausea mouth loss appetite tiredness drowsines...          1.0   \n",
       "355603  nausea mouth loss appetite tiredness drowsines...          1.0   \n",
       "355649  nausea mouth loss appetite tiredness drowsines...          1.0   \n",
       "355664  nausea mouth loss appetite tiredness drowsines...          0.0   \n",
       "355711  nausea mouth loss appetite tiredness drowsines...          7.0   \n",
       "\n",
       "       SideEffects  \n",
       "355521        Mild  \n",
       "355603      Severe  \n",
       "355649     Extreme  \n",
       "355664      Severe  \n",
       "355711    Moderate  "
      ]
     },
     "execution_count": 68,
     "metadata": {},
     "output_type": "execute_result"
    }
   ],
   "source": [
    "data_new.head()"
   ]
  },
  {
   "cell_type": "code",
   "execution_count": 69,
   "id": "ce284407",
   "metadata": {},
   "outputs": [],
   "source": [
    "data_copy = data_new.copy()"
   ]
  },
  {
   "cell_type": "markdown",
   "id": "203525e3",
   "metadata": {},
   "source": [
    "# Correlation"
   ]
  },
  {
   "cell_type": "code",
   "execution_count": 70,
   "id": "41f79fb6",
   "metadata": {},
   "outputs": [
    {
     "data": {
      "text/plain": [
       "<AxesSubplot:>"
      ]
     },
     "execution_count": 70,
     "metadata": {},
     "output_type": "execute_result"
    },
    {
     "data": {
      "image/png": "[encoded data removed]",
      "text/plain": [
       "<Figure size 800x800 with 2 Axes>"
      ]
     },
     "metadata": {},
     "output_type": "display_data"
    }
   ],
   "source": [
    "corrmatrix = data_new.corr()\n",
    "plt.figure(figsize=(8,8))\n",
    "sns.heatmap(corrmatrix,vmin=-0.4 , vmax=0.9, annot=True, cmap='YlGnBu' , linewidth=0.2)"
   ]
  },
  {
   "cell_type": "code",
   "execution_count": 71,
   "id": "60bda68c",
   "metadata": {},
   "outputs": [
    {
     "data": {
      "text/html": [
       "<div>\n",
       "<style scoped>\n",
       "    .dataframe tbody tr th:only-of-type {\n",
       "        vertical-align: middle;\n",
       "    }\n",
       "\n",
       "    .dataframe tbody tr th {\n",
       "        vertical-align: top;\n",
       "    }\n",
       "\n",
       "    .dataframe thead th {\n",
       "        text-align: right;\n",
       "    }\n",
       "</style>\n",
       "<table border=\"1\" class=\"dataframe\">\n",
       "  <thead>\n",
       "    <tr style=\"text-align: right;\">\n",
       "      <th></th>\n",
       "      <th>Race</th>\n",
       "      <th>Age</th>\n",
       "      <th>Condition</th>\n",
       "      <th>EaseofUse</th>\n",
       "      <th>Effectiveness</th>\n",
       "      <th>Sex</th>\n",
       "      <th>SideEffects</th>\n",
       "    </tr>\n",
       "  </thead>\n",
       "  <tbody>\n",
       "    <tr>\n",
       "      <th>0</th>\n",
       "      <td>Asian</td>\n",
       "      <td>19-24</td>\n",
       "      <td>depression</td>\n",
       "      <td>4.0</td>\n",
       "      <td>2.0</td>\n",
       "      <td>Female</td>\n",
       "      <td>Mild</td>\n",
       "    </tr>\n",
       "    <tr>\n",
       "      <th>1</th>\n",
       "      <td>Asian</td>\n",
       "      <td>45-54</td>\n",
       "      <td>other</td>\n",
       "      <td>5.0</td>\n",
       "      <td>4.0</td>\n",
       "      <td>Female</td>\n",
       "      <td>Severe</td>\n",
       "    </tr>\n",
       "    <tr>\n",
       "      <th>2</th>\n",
       "      <td>White</td>\n",
       "      <td>25-34</td>\n",
       "      <td>panic disorder</td>\n",
       "      <td>4.0</td>\n",
       "      <td>5.0</td>\n",
       "      <td>Male</td>\n",
       "      <td>Extreme</td>\n",
       "    </tr>\n",
       "    <tr>\n",
       "      <th>3</th>\n",
       "      <td>Black</td>\n",
       "      <td>19-24</td>\n",
       "      <td>major depressive disorder</td>\n",
       "      <td>5.0</td>\n",
       "      <td>4.0</td>\n",
       "      <td>Female</td>\n",
       "      <td>Severe</td>\n",
       "    </tr>\n",
       "    <tr>\n",
       "      <th>4</th>\n",
       "      <td>White</td>\n",
       "      <td>19-24</td>\n",
       "      <td>depression</td>\n",
       "      <td>5.0</td>\n",
       "      <td>3.0</td>\n",
       "      <td>Male</td>\n",
       "      <td>Moderate</td>\n",
       "    </tr>\n",
       "  </tbody>\n",
       "</table>\n",
       "</div>"
      ],
      "text/plain": [
       "    Race    Age                  Condition  EaseofUse  Effectiveness     Sex  \\\n",
       "0  Asian  19-24                 depression        4.0            2.0  Female   \n",
       "1  Asian  45-54                      other        5.0            4.0  Female   \n",
       "2  White  25-34             panic disorder        4.0            5.0    Male   \n",
       "3  Black  19-24  major depressive disorder        5.0            4.0  Female   \n",
       "4  White  19-24                 depression        5.0            3.0    Male   \n",
       "\n",
       "  SideEffects  \n",
       "0        Mild  \n",
       "1      Severe  \n",
       "2     Extreme  \n",
       "3      Severe  \n",
       "4    Moderate  "
      ]
     },
     "execution_count": 71,
     "metadata": {},
     "output_type": "execute_result"
    }
   ],
   "source": [
    "#Here, being common, dropped the Drug, Sides columns. The other columns such as Date, Name, Reviews and UsefulCount are also \n",
    "#dropped since these doesn't deal with side effects of the drug.\n",
    "data_new=data_new.drop(columns = ['Name','Drug','Date','Sides','Reviews','UsefulCount'],axis=1)\n",
    "data_new=data_new.reset_index(drop=True)\n",
    "data_new.head()"
   ]
  },
  {
   "cell_type": "code",
   "execution_count": 72,
   "id": "c64ec856",
   "metadata": {},
   "outputs": [
    {
     "data": {
      "text/plain": [
       "(1547, 7)"
      ]
     },
     "execution_count": 72,
     "metadata": {},
     "output_type": "execute_result"
    }
   ],
   "source": [
    "data_new.shape"
   ]
  },
  {
   "cell_type": "code",
   "execution_count": 73,
   "id": "e0305990",
   "metadata": {},
   "outputs": [
    {
     "name": "stdout",
     "output_type": "stream",
     "text": [
      "<class 'pandas.core.frame.DataFrame'>\n",
      "RangeIndex: 1547 entries, 0 to 1546\n",
      "Data columns (total 7 columns):\n",
      " #   Column         Non-Null Count  Dtype   \n",
      "---  ------         --------------  -----   \n",
      " 0   Race           1547 non-null   category\n",
      " 1   Age            1547 non-null   category\n",
      " 2   Condition      1547 non-null   category\n",
      " 3   EaseofUse      1547 non-null   float64 \n",
      " 4   Effectiveness  1547 non-null   float64 \n",
      " 5   Sex            1547 non-null   category\n",
      " 6   SideEffects    1547 non-null   category\n",
      "dtypes: category(5), float64(2)\n",
      "memory usage: 33.1 KB\n"
     ]
    }
   ],
   "source": [
    "#Finding categorical columns and chnaging datatype\n",
    "for cl in data_new.select_dtypes(include = ['object']):\n",
    "    data_new[cl]=data_new[cl].astype('category')\n",
    "data_new.info()"
   ]
  },
  {
   "cell_type": "markdown",
   "id": "235fac0e",
   "metadata": {},
   "source": [
    "# Label Encoding"
   ]
  },
  {
   "cell_type": "code",
   "execution_count": 74,
   "id": "d16e7873",
   "metadata": {},
   "outputs": [],
   "source": [
    "from sklearn.preprocessing import LabelEncoder\n",
    "label=LabelEncoder()\n",
    "#for col in ['SideEffects', 'Drug','Age','Sex']:\n",
    "for col in ['Race','Age','Sex','Condition','SideEffects']:   \n",
    "    data_new[col]=label.fit_transform((data_new[col]).astype(str))\n",
    "    \n",
    "data_label=data_new"
   ]
  },
  {
   "cell_type": "code",
   "execution_count": 75,
   "id": "bc604585",
   "metadata": {},
   "outputs": [
    {
     "data": {
      "text/html": [
       "<div>\n",
       "<style scoped>\n",
       "    .dataframe tbody tr th:only-of-type {\n",
       "        vertical-align: middle;\n",
       "    }\n",
       "\n",
       "    .dataframe tbody tr th {\n",
       "        vertical-align: top;\n",
       "    }\n",
       "\n",
       "    .dataframe thead th {\n",
       "        text-align: right;\n",
       "    }\n",
       "</style>\n",
       "<table border=\"1\" class=\"dataframe\">\n",
       "  <thead>\n",
       "    <tr style=\"text-align: right;\">\n",
       "      <th></th>\n",
       "      <th>Race</th>\n",
       "      <th>Age</th>\n",
       "      <th>Condition</th>\n",
       "      <th>EaseofUse</th>\n",
       "      <th>Effectiveness</th>\n",
       "      <th>Sex</th>\n",
       "      <th>SideEffects</th>\n",
       "    </tr>\n",
       "  </thead>\n",
       "  <tbody>\n",
       "    <tr>\n",
       "      <th>0</th>\n",
       "      <td>0</td>\n",
       "      <td>1</td>\n",
       "      <td>3</td>\n",
       "      <td>4.0</td>\n",
       "      <td>2.0</td>\n",
       "      <td>0</td>\n",
       "      <td>1</td>\n",
       "    </tr>\n",
       "    <tr>\n",
       "      <th>1</th>\n",
       "      <td>0</td>\n",
       "      <td>4</td>\n",
       "      <td>6</td>\n",
       "      <td>5.0</td>\n",
       "      <td>4.0</td>\n",
       "      <td>0</td>\n",
       "      <td>4</td>\n",
       "    </tr>\n",
       "    <tr>\n",
       "      <th>2</th>\n",
       "      <td>3</td>\n",
       "      <td>2</td>\n",
       "      <td>7</td>\n",
       "      <td>4.0</td>\n",
       "      <td>5.0</td>\n",
       "      <td>1</td>\n",
       "      <td>0</td>\n",
       "    </tr>\n",
       "    <tr>\n",
       "      <th>3</th>\n",
       "      <td>1</td>\n",
       "      <td>1</td>\n",
       "      <td>4</td>\n",
       "      <td>5.0</td>\n",
       "      <td>4.0</td>\n",
       "      <td>0</td>\n",
       "      <td>4</td>\n",
       "    </tr>\n",
       "    <tr>\n",
       "      <th>4</th>\n",
       "      <td>3</td>\n",
       "      <td>1</td>\n",
       "      <td>3</td>\n",
       "      <td>5.0</td>\n",
       "      <td>3.0</td>\n",
       "      <td>1</td>\n",
       "      <td>2</td>\n",
       "    </tr>\n",
       "  </tbody>\n",
       "</table>\n",
       "</div>"
      ],
      "text/plain": [
       "   Race  Age  Condition  EaseofUse  Effectiveness  Sex  SideEffects\n",
       "0     0    1          3        4.0            2.0    0            1\n",
       "1     0    4          6        5.0            4.0    0            4\n",
       "2     3    2          7        4.0            5.0    1            0\n",
       "3     1    1          4        5.0            4.0    0            4\n",
       "4     3    1          3        5.0            3.0    1            2"
      ]
     },
     "execution_count": 75,
     "metadata": {},
     "output_type": "execute_result"
    }
   ],
   "source": [
    "data_new.head()"
   ]
  },
  {
   "cell_type": "markdown",
   "id": "717a546e",
   "metadata": {},
   "source": [
    "# Scaling"
   ]
  },
  {
   "cell_type": "code",
   "execution_count": 76,
   "id": "256c5c9a",
   "metadata": {},
   "outputs": [],
   "source": [
    "from sklearn.preprocessing import StandardScaler\n",
    "ss=StandardScaler()\n",
    "scale=['Effectiveness','EaseofUse']\n",
    "data_new[scale] = ss.fit_transform(data_new[scale])"
   ]
  },
  {
   "cell_type": "code",
   "execution_count": 77,
   "id": "dbfa3a22",
   "metadata": {},
   "outputs": [],
   "source": [
    "data_model = data_new.copy()"
   ]
  },
  {
   "cell_type": "markdown",
   "id": "10f26e06",
   "metadata": {},
   "source": [
    "# EDA"
   ]
  },
  {
   "cell_type": "code",
   "execution_count": 78,
   "id": "108e7f14",
   "metadata": {},
   "outputs": [
    {
     "data": {
      "image/png": "[encoded data removed]",
      "text/plain": [
       "<Figure size 640x480 with 1 Axes>"
      ]
     },
     "metadata": {},
     "output_type": "display_data"
    }
   ],
   "source": [
    "data1= df1['Drug'].value_counts().head(20).reset_index()\n",
    "data1.columns = ['Drug', 'Users']\n",
    "sns.barplot(data=data1, x = 'Drug', y = 'Users')\n",
    "plt.suptitle(\"Top 20 Drugs\")\n",
    "plt.xticks(rotation=90,fontsize=10)\n",
    "plt.show()"
   ]
  },
  {
   "cell_type": "markdown",
   "id": "e440c4c9",
   "metadata": {},
   "source": [
    "# Celexa "
   ]
  },
  {
   "cell_type": "code",
   "execution_count": 79,
   "id": "a291d220",
   "metadata": {},
   "outputs": [
    {
     "data": {
      "text/plain": [
       "Text(0, 0.5, 'Count')"
      ]
     },
     "execution_count": 79,
     "metadata": {},
     "output_type": "execute_result"
    },
    {
     "data": {
      "image/png": "[encoded data removed]",
      "text/plain": [
       "<Figure size 800x800 with 1 Axes>"
      ]
     },
     "metadata": {},
     "output_type": "display_data"
    }
   ],
   "source": [
    "plt.figure(figsize = (4,4))\n",
    "drug_celexa['Condition'].value_counts().nlargest(12).plot(kind='bar',figsize=(8,8))\n",
    "plt.suptitle(\"Celexa Conditions\")\n",
    "plt.xlabel('Condition')\n",
    "plt.ylabel('Count')"
   ]
  },
  {
   "cell_type": "code",
   "execution_count": 80,
   "id": "4eb3edf8",
   "metadata": {},
   "outputs": [
    {
     "data": {
      "text/plain": [
       "Text(0, 0.5, 'Users')"
      ]
     },
     "execution_count": 80,
     "metadata": {},
     "output_type": "execute_result"
    },
    {
     "data": {
      "image/png": "[encoded data removed]",
      "text/plain": [
       "<Figure size 800x800 with 1 Axes>"
      ]
     },
     "metadata": {},
     "output_type": "display_data"
    }
   ],
   "source": [
    "df1['Condition'].value_counts().nlargest(20).plot(kind='bar',figsize=(8,8))\n",
    "plt.suptitle(\"Top 20 Conditions\")\n",
    "plt.xlabel('Conditions')\n",
    "plt.ylabel('Users')"
   ]
  },
  {
   "cell_type": "code",
   "execution_count": 81,
   "id": "702b5ba4",
   "metadata": {},
   "outputs": [
    {
     "data": {
      "image/png": "[encoded data removed]",
      "text/plain": [
       "<Figure size 400x400 with 1 Axes>"
      ]
     },
     "metadata": {},
     "output_type": "display_data"
    }
   ],
   "source": [
    "plt.figure(figsize = (4,4))\n",
    "s=sns.countplot(x='Sex', data=data_copy)\n",
    "plt.title('Users by Gender', fontsize=15)\n",
    "plt.xlabel('Sex')\n",
    "plt.ylabel('Count') \n",
    "plt.show()"
   ]
  },
  {
   "cell_type": "code",
   "execution_count": 82,
   "id": "afa815ff",
   "metadata": {},
   "outputs": [
    {
     "data": {
      "text/plain": [
       "Text(0, 0.5, 'Count')"
      ]
     },
     "execution_count": 82,
     "metadata": {},
     "output_type": "execute_result"
    },
    {
     "data": {
      "image/png": "[encoded data removed]",
      "text/plain": [
       "<Figure size 640x480 with 1 Axes>"
      ]
     },
     "metadata": {},
     "output_type": "display_data"
    }
   ],
   "source": [
    "data_copy['Race'].value_counts().plot(kind='bar')\n",
    "plt.title(\"Race\", fontsize = 15)\n",
    "plt.xlabel(\"Race\", fontsize = 10)\n",
    "plt.ylabel(\"Count\", fontsize = 10)"
   ]
  },
  {
   "cell_type": "code",
   "execution_count": 83,
   "id": "eec03ce8",
   "metadata": {},
   "outputs": [
    {
     "data": {
      "text/plain": [
       "Text(0.5, 1.0, 'Users by Race and Gender')"
      ]
     },
     "execution_count": 83,
     "metadata": {},
     "output_type": "execute_result"
    },
    {
     "data": {
      "image/png": "[encoded data removed]",
      "text/plain": [
       "<Figure size 640x480 with 1 Axes>"
      ]
     },
     "metadata": {},
     "output_type": "display_data"
    }
   ],
   "source": [
    "sns.countplot(x='Race',hue='Sex',data=data_copy)\n",
    "plt.title(\"Users by Race and Gender\", fontsize = 15)"
   ]
  },
  {
   "cell_type": "code",
   "execution_count": 84,
   "id": "a6a3999d",
   "metadata": {},
   "outputs": [
    {
     "data": {
      "text/plain": [
       "Text(0.5, 1.0, 'Users by Age and Gender')"
      ]
     },
     "execution_count": 84,
     "metadata": {},
     "output_type": "execute_result"
    },
    {
     "data": {
      "image/png": "[encoded data removed]",
      "text/plain": [
       "<Figure size 1000x600 with 1 Axes>"
      ]
     },
     "metadata": {},
     "output_type": "display_data"
    }
   ],
   "source": [
    "plt.figure(figsize=(10, 6))\n",
    "sns.countplot(x='Age',hue='Sex',data=data_copy)\n",
    "plt.title(\"Users by Age and Gender\", fontsize = 15)"
   ]
  },
  {
   "cell_type": "markdown",
   "id": "81968156",
   "metadata": {},
   "source": [
    "Yearly Reviews of Celexia"
   ]
  },
  {
   "cell_type": "code",
   "execution_count": 85,
   "id": "4460d6d0",
   "metadata": {},
   "outputs": [],
   "source": [
    "data_copy['Date'] = pd.to_datetime(data_copy['Date'], errors = 'coerce')"
   ]
  },
  {
   "cell_type": "code",
   "execution_count": 86,
   "id": "41b62d62",
   "metadata": {},
   "outputs": [],
   "source": [
    "#extracting year from Date\n",
    "data_copy['Year'] = data_copy['Date'].dt.year"
   ]
  },
  {
   "cell_type": "code",
   "execution_count": 87,
   "id": "f521c9a5",
   "metadata": {},
   "outputs": [
    {
     "data": {
      "image/png": "[encoded data removed]",
      "text/plain": [
       "<Figure size 1000x400 with 1 Axes>"
      ]
     },
     "metadata": {},
     "output_type": "display_data"
    }
   ],
   "source": [
    "plt.figure(figsize=(10,4))\n",
    "sns.countplot(data_copy['Year'], palette ='colorblind')\n",
    "plt.title('Number of yearly reviews', fontsize = 15)\n",
    "plt.xlabel('Year', fontsize = 15)\n",
    "plt.ylabel('Count of Reviews', fontsize = 15)\n",
    "plt.show()"
   ]
  },
  {
   "cell_type": "code",
   "execution_count": 88,
   "id": "1dcff678",
   "metadata": {},
   "outputs": [
    {
     "data": {
      "text/plain": [
       "Text(0, 0.5, 'Count')"
      ]
     },
     "execution_count": 88,
     "metadata": {},
     "output_type": "execute_result"
    },
    {
     "data": {
      "image/png": "[encoded data removed]",
      "text/plain": [
       "<Figure size 640x480 with 1 Axes>"
      ]
     },
     "metadata": {},
     "output_type": "display_data"
    }
   ],
   "source": [
    "data_copy['Effectiveness'].value_counts().plot(kind='bar')\n",
    "plt.title(\"Effectiveness\", fontsize = 15)\n",
    "plt.xlabel(\"Effectiveness\", fontsize = 10)\n",
    "plt.ylabel(\"Count\", fontsize = 10)"
   ]
  },
  {
   "cell_type": "code",
   "execution_count": 89,
   "id": "795375cf",
   "metadata": {},
   "outputs": [
    {
     "data": {
      "text/plain": [
       "Text(0, 0.5, 'Count')"
      ]
     },
     "execution_count": 89,
     "metadata": {},
     "output_type": "execute_result"
    },
    {
     "data": {
      "image/png": "[encoded data removed]",
      "text/plain": [
       "<Figure size 640x480 with 1 Axes>"
      ]
     },
     "metadata": {},
     "output_type": "display_data"
    }
   ],
   "source": [
    "data_copy['EaseofUse'].value_counts().plot(kind='bar')\n",
    "plt.title(\"Ease of use\", fontsize = 15)\n",
    "plt.xlabel(\"EaseofUse\", fontsize = 10)\n",
    "plt.ylabel(\"Count\", fontsize = 10)"
   ]
  },
  {
   "cell_type": "code",
   "execution_count": 90,
   "id": "69ebc788",
   "metadata": {},
   "outputs": [
    {
     "data": {
      "text/plain": [
       "Text(0, 0.5, 'Count')"
      ]
     },
     "execution_count": 90,
     "metadata": {},
     "output_type": "execute_result"
    },
    {
     "data": {
      "image/png": "[encoded data removed]",
      "text/plain": [
       "<Figure size 640x480 with 1 Axes>"
      ]
     },
     "metadata": {},
     "output_type": "display_data"
    }
   ],
   "source": [
    "data_copy['UsefulCount'].value_counts().plot(kind='bar')\n",
    "plt.title(\"Useful Count\", fontsize = 15)\n",
    "plt.xlabel(\"UsefulCount\", fontsize = 15)\n",
    "plt.ylabel(\"Count\", fontsize = 15)"
   ]
  },
  {
   "cell_type": "code",
   "execution_count": 91,
   "id": "312ae83c",
   "metadata": {},
   "outputs": [
    {
     "data": {
      "text/plain": [
       "<Figure size 1000x800 with 0 Axes>"
      ]
     },
     "metadata": {},
     "output_type": "display_data"
    },
    {
     "data": {
      "image/png": "[encoded data removed]",
      "text/plain": [
       "<Figure size 1080x600 with 2 Axes>"
      ]
     },
     "metadata": {},
     "output_type": "display_data"
    }
   ],
   "source": [
    "#Users by Effectiveness and Gender\n",
    "plt.figure(figsize=(10,8))\n",
    "g = sns.catplot(x=\"Effectiveness\",col=\"Sex\",\n",
    "                data=data_copy, kind=\"count\",\n",
    "                height=6,aspect =.9);"
   ]
  },
  {
   "cell_type": "code",
   "execution_count": 92,
   "id": "cdad3bdf",
   "metadata": {},
   "outputs": [
    {
     "data": {
      "image/png": "[encoded data removed]",
      "text/plain": [
       "<Figure size 600x600 with 1 Axes>"
      ]
     },
     "metadata": {},
     "output_type": "display_data"
    }
   ],
   "source": [
    "plt.figure(figsize=(6,6))\n",
    "data_copy['SideEffects'].value_counts().plot.pie(autopct='%1.1f%%',shadow=True)\n",
    "plt.title(\"Side Effects\", fontsize = 15)\n",
    "plt.show()"
   ]
  },
  {
   "cell_type": "code",
   "execution_count": 93,
   "id": "50ed9686",
   "metadata": {},
   "outputs": [
    {
     "data": {
      "text/plain": [
       "<AxesSubplot:title={'center':'Age and Side effects'}, xlabel='Age', ylabel='count'>"
      ]
     },
     "execution_count": 93,
     "metadata": {},
     "output_type": "execute_result"
    },
    {
     "data": {
      "image/png": "[encoded data removed]",
      "text/plain": [
       "<Figure size 1000x600 with 1 Axes>"
      ]
     },
     "metadata": {},
     "output_type": "display_data"
    }
   ],
   "source": [
    "plt.figure(figsize=(10, 6))\n",
    "plt.title(\"Age and Side effects\", fontsize=15)\n",
    "sns.countplot(x='Age',hue='SideEffects',data=data_copy)"
   ]
  },
  {
   "cell_type": "code",
   "execution_count": 94,
   "id": "a77c7103",
   "metadata": {},
   "outputs": [
    {
     "data": {
      "text/plain": [
       "<Figure size 2000x1000 with 0 Axes>"
      ]
     },
     "metadata": {},
     "output_type": "display_data"
    },
    {
     "data": {
      "image/png": "[encoded data removed]",
      "text/plain": [
       "<Figure size 1080x600 with 2 Axes>"
      ]
     },
     "metadata": {},
     "output_type": "display_data"
    }
   ],
   "source": [
    "plt.figure(figsize=(20, 10))\n",
    "plt.suptitle(\"Gender and Side Effects\", fontsize=15)\n",
    "\n",
    "g = sns.FacetGrid(data_copy, col=\"Sex\", height=6, aspect=0.9)\n",
    "g.map(sns.countplot, \"SideEffects\")\n",
    "plt.show()"
   ]
  },
  {
   "cell_type": "code",
   "execution_count": 95,
   "id": "97cbb0ad",
   "metadata": {
    "scrolled": true
   },
   "outputs": [
    {
     "data": {
      "text/plain": [
       "<AxesSubplot:title={'center':'Race and Side effects'}, xlabel='Race', ylabel='count'>"
      ]
     },
     "execution_count": 95,
     "metadata": {},
     "output_type": "execute_result"
    },
    {
     "data": {
      "image/png": "[encoded data removed]",
      "text/plain": [
       "<Figure size 1000x600 with 1 Axes>"
      ]
     },
     "metadata": {},
     "output_type": "display_data"
    }
   ],
   "source": [
    "plt.figure(figsize=(10, 6))\n",
    "plt.title(\"Race and Side effects\", fontsize=15)\n",
    "sns.countplot(x='Race',hue='SideEffects',data=data_copy)"
   ]
  },
  {
   "cell_type": "markdown",
   "id": "c661767e",
   "metadata": {},
   "source": [
    "# Splitting the data"
   ]
  },
  {
   "cell_type": "code",
   "execution_count": 96,
   "id": "7e728077",
   "metadata": {},
   "outputs": [],
   "source": [
    "#target\n",
    "y = data_new['SideEffects']"
   ]
  },
  {
   "cell_type": "code",
   "execution_count": 97,
   "id": "4457d07b",
   "metadata": {},
   "outputs": [],
   "source": [
    "X = data_new.drop(['SideEffects'],axis=1)"
   ]
  },
  {
   "cell_type": "code",
   "execution_count": 98,
   "id": "7729b9db",
   "metadata": {},
   "outputs": [
    {
     "data": {
      "text/plain": [
       "(1547, 6)"
      ]
     },
     "execution_count": 98,
     "metadata": {},
     "output_type": "execute_result"
    }
   ],
   "source": [
    "X.shape"
   ]
  },
  {
   "cell_type": "code",
   "execution_count": 99,
   "id": "0cdd0bf2",
   "metadata": {},
   "outputs": [],
   "source": [
    "#Splitting the data into train and test data\n",
    "from sklearn.model_selection import train_test_split\n",
    "X_train,X_test,y_train,y_test = train_test_split(X,y, random_state=42,test_size=0.2)#assigninng values"
   ]
  },
  {
   "cell_type": "code",
   "execution_count": 100,
   "id": "7bff8778",
   "metadata": {},
   "outputs": [
    {
     "data": {
      "text/plain": [
       "(1237, 6)"
      ]
     },
     "execution_count": 100,
     "metadata": {},
     "output_type": "execute_result"
    }
   ],
   "source": [
    "X_train.shape"
   ]
  },
  {
   "cell_type": "code",
   "execution_count": 101,
   "id": "5b91c4d9",
   "metadata": {},
   "outputs": [
    {
     "data": {
      "text/plain": [
       "(310, 6)"
      ]
     },
     "execution_count": 101,
     "metadata": {},
     "output_type": "execute_result"
    }
   ],
   "source": [
    "X_test.shape"
   ]
  },
  {
   "cell_type": "code",
   "execution_count": 102,
   "id": "2907cf41",
   "metadata": {},
   "outputs": [
    {
     "data": {
      "text/plain": [
       "(1237,)"
      ]
     },
     "execution_count": 102,
     "metadata": {},
     "output_type": "execute_result"
    }
   ],
   "source": [
    "y_train.shape"
   ]
  },
  {
   "cell_type": "code",
   "execution_count": 103,
   "id": "d1f119d8",
   "metadata": {},
   "outputs": [
    {
     "data": {
      "text/plain": [
       "(310,)"
      ]
     },
     "execution_count": 103,
     "metadata": {},
     "output_type": "execute_result"
    }
   ],
   "source": [
    "y_test.shape"
   ]
  },
  {
   "cell_type": "markdown",
   "id": "ab6b926d",
   "metadata": {},
   "source": [
    "# Building the Model"
   ]
  },
  {
   "cell_type": "markdown",
   "id": "5978acaf",
   "metadata": {},
   "source": [
    "Logistic Regression"
   ]
  },
  {
   "cell_type": "code",
   "execution_count": 104,
   "id": "2ddbf2fc",
   "metadata": {},
   "outputs": [],
   "source": [
    "from sklearn.linear_model import LogisticRegression\n",
    "logit_model = LogisticRegression(multi_class='multinomial')\n",
    "logit_model.fit(X_train, y_train)\n",
    "y_pred = logit_model.predict(X_test)"
   ]
  },
  {
   "cell_type": "code",
   "execution_count": 105,
   "id": "6162c711",
   "metadata": {},
   "outputs": [],
   "source": [
    "from sklearn.metrics import confusion_matrix, accuracy_score, precision_score,recall_score,f1_score,classification_report"
   ]
  },
  {
   "cell_type": "code",
   "execution_count": 106,
   "id": "25688ed9",
   "metadata": {},
   "outputs": [
    {
     "name": "stdout",
     "output_type": "stream",
     "text": [
      "Accuracy is :  59.354838709677416\n"
     ]
    }
   ],
   "source": [
    "print(\"Accuracy is : \", accuracy_score(y_test, y_pred)*100)"
   ]
  },
  {
   "cell_type": "code",
   "execution_count": 107,
   "id": "9f6a8bb9",
   "metadata": {},
   "outputs": [
    {
     "data": {
      "text/plain": [
       "array([[76,  0,  1,  0, 22],\n",
       "       [ 2,  2, 14, 14,  1],\n",
       "       [ 8,  3, 30,  3, 14],\n",
       "       [ 3,  1,  8, 33,  4],\n",
       "       [21,  0,  7,  0, 43]], dtype=int64)"
      ]
     },
     "execution_count": 107,
     "metadata": {},
     "output_type": "execute_result"
    }
   ],
   "source": [
    "confusion_matrix(y_test,y_pred)"
   ]
  },
  {
   "cell_type": "markdown",
   "id": "0e68a722",
   "metadata": {},
   "source": [
    "KNN Model"
   ]
  },
  {
   "cell_type": "code",
   "execution_count": 108,
   "id": "8a7a5f91",
   "metadata": {},
   "outputs": [],
   "source": [
    "from sklearn.neighbors import KNeighborsClassifier"
   ]
  },
  {
   "cell_type": "code",
   "execution_count": 109,
   "id": "0af7406a",
   "metadata": {},
   "outputs": [],
   "source": [
    "acc_values = []\n",
    "neighbors = np.arange(3,15)\n",
    "\n",
    "# creating a loop to create KNN model for each K value\n",
    "for k in neighbors:\n",
    "#taking the instance of KNN to a variable.the variable name is classifier.\n",
    "    classifier = KNeighborsClassifier(n_neighbors= k, metric = 'minkowski')    #no: of neighbors n the methode to measure the distance .instance is created\n",
    "#we have to create the model.\n",
    "    classifier = KNeighborsClassifier(n_neighbors= k)\n",
    "    classifier.fit(X_train,y_train)\n",
    "#have to predict output using this model.\n",
    "    y_pred = classifier.predict(X_test)#KNN is created\n",
    "#append the accurcy values to empty list in order to fing out maximum accuracy.\n",
    "    acc = accuracy_score(y_test, y_pred)#taking accuracy values to variable acc \n",
    "#append these accuracy values to our list\n",
    "    acc_values.append(acc)"
   ]
  },
  {
   "cell_type": "code",
   "execution_count": 110,
   "id": "8161ffda",
   "metadata": {},
   "outputs": [
    {
     "data": {
      "text/plain": [
       "[0.45161290322580644,\n",
       " 0.4645161290322581,\n",
       " 0.4645161290322581,\n",
       " 0.5,\n",
       " 0.4967741935483871,\n",
       " 0.5096774193548387,\n",
       " 0.5290322580645161,\n",
       " 0.5064516129032258,\n",
       " 0.535483870967742,\n",
       " 0.532258064516129,\n",
       " 0.5387096774193548,\n",
       " 0.5290322580645161]"
      ]
     },
     "execution_count": 110,
     "metadata": {},
     "output_type": "execute_result"
    }
   ],
   "source": [
    "acc_values"
   ]
  },
  {
   "cell_type": "code",
   "execution_count": 111,
   "id": "d8592a3a",
   "metadata": {},
   "outputs": [
    {
     "data": {
      "text/plain": [
       "Text(0, 0.5, 'accuracy')"
      ]
     },
     "execution_count": 111,
     "metadata": {},
     "output_type": "execute_result"
    },
    {
     "data": {
      "image/png": "[encoded data removed]",
      "text/plain": [
       "<Figure size 640x480 with 1 Axes>"
      ]
     },
     "metadata": {},
     "output_type": "display_data"
    }
   ],
   "source": [
    "plt.plot(neighbors,acc_values,'o-')\n",
    "plt.xlabel('k value')\n",
    "plt.ylabel('accuracy')"
   ]
  },
  {
   "cell_type": "code",
   "execution_count": 112,
   "id": "f6ab1a73",
   "metadata": {},
   "outputs": [],
   "source": [
    "classifier = KNeighborsClassifier(n_neighbors= 13, metric = 'minkowski')\n",
    "classifier.fit(X_train,y_train)\n",
    "y_pred = classifier.predict(X_test)"
   ]
  },
  {
   "cell_type": "code",
   "execution_count": 113,
   "id": "38db4874",
   "metadata": {},
   "outputs": [
    {
     "name": "stdout",
     "output_type": "stream",
     "text": [
      "Accuracy is :  53.87096774193548\n"
     ]
    }
   ],
   "source": [
    "print(\"Accuracy is : \", accuracy_score(y_test, y_pred)*100)"
   ]
  },
  {
   "cell_type": "code",
   "execution_count": 114,
   "id": "b383f2ff",
   "metadata": {},
   "outputs": [
    {
     "data": {
      "text/plain": [
       "array([[86,  0,  2,  0, 11],\n",
       "       [ 3,  9,  9,  8,  4],\n",
       "       [13,  3, 25,  1, 16],\n",
       "       [ 4,  4, 11, 28,  2],\n",
       "       [40,  4,  8,  0, 19]], dtype=int64)"
      ]
     },
     "execution_count": 114,
     "metadata": {},
     "output_type": "execute_result"
    }
   ],
   "source": [
    "confusion_matrix(y_test,y_pred)"
   ]
  },
  {
   "cell_type": "markdown",
   "id": "a7ccc929",
   "metadata": {},
   "source": [
    "Decision Tree Classifier"
   ]
  },
  {
   "cell_type": "code",
   "execution_count": 115,
   "id": "e8920c74",
   "metadata": {},
   "outputs": [],
   "source": [
    "from sklearn.tree import DecisionTreeClassifier\n",
    "dt_model = DecisionTreeClassifier()\n",
    "dt_model.fit(X_train,y_train)\n",
    "y_pred = dt_model.predict(X_test)"
   ]
  },
  {
   "cell_type": "code",
   "execution_count": 116,
   "id": "f1b4bcd7",
   "metadata": {},
   "outputs": [
    {
     "name": "stdout",
     "output_type": "stream",
     "text": [
      "Accuracy is :  52.903225806451616\n"
     ]
    }
   ],
   "source": [
    "print(\"Accuracy is : \", accuracy_score(y_test, y_pred)*100)"
   ]
  },
  {
   "cell_type": "code",
   "execution_count": 117,
   "id": "0f95a3c5",
   "metadata": {},
   "outputs": [
    {
     "data": {
      "text/plain": [
       "array([[73,  3,  7,  1, 15],\n",
       "       [ 2, 15,  6,  8,  2],\n",
       "       [ 9, 12, 24,  3, 10],\n",
       "       [ 4,  6,  8, 31,  0],\n",
       "       [29,  4, 16,  1, 21]], dtype=int64)"
      ]
     },
     "execution_count": 117,
     "metadata": {},
     "output_type": "execute_result"
    }
   ],
   "source": [
    "confusion_matrix(y_test,y_pred)"
   ]
  },
  {
   "cell_type": "markdown",
   "id": "6f678508",
   "metadata": {},
   "source": [
    "Linear SVM"
   ]
  },
  {
   "cell_type": "code",
   "execution_count": 118,
   "id": "981337fe",
   "metadata": {},
   "outputs": [],
   "source": [
    "from sklearn.svm import SVC\n",
    "svm_linear = SVC(kernel = 'linear')#creating an instance\n",
    "svm_linear.fit(X_train,y_train)\n",
    "y_pred = svm_linear.predict(X_test)"
   ]
  },
  {
   "cell_type": "code",
   "execution_count": 119,
   "id": "e75ef8aa",
   "metadata": {},
   "outputs": [
    {
     "name": "stdout",
     "output_type": "stream",
     "text": [
      "Accuracy is :  60.0\n"
     ]
    }
   ],
   "source": [
    "print(\"Accuracy is : \", accuracy_score(y_test, y_pred)*100)"
   ]
  },
  {
   "cell_type": "code",
   "execution_count": 120,
   "id": "3ba4bd47",
   "metadata": {},
   "outputs": [
    {
     "data": {
      "text/plain": [
       "array([[76,  0,  0,  0, 23],\n",
       "       [ 2,  0, 16, 14,  1],\n",
       "       [ 8,  1, 33,  2, 14],\n",
       "       [ 3,  0,  9, 33,  4],\n",
       "       [21,  0,  6,  0, 44]], dtype=int64)"
      ]
     },
     "execution_count": 120,
     "metadata": {},
     "output_type": "execute_result"
    }
   ],
   "source": [
    "confusion_matrix(y_test,y_pred)"
   ]
  },
  {
   "cell_type": "markdown",
   "id": "b228a06c",
   "metadata": {},
   "source": [
    "Polynomial SVM"
   ]
  },
  {
   "cell_type": "code",
   "execution_count": 121,
   "id": "f55e5482",
   "metadata": {},
   "outputs": [],
   "source": [
    "svm_poly = SVC(kernel = 'poly', degree=3)\n",
    "svm_poly.fit(X_train,y_train)\n",
    "y_pred = svm_poly.predict(X_test)"
   ]
  },
  {
   "cell_type": "code",
   "execution_count": 122,
   "id": "72ceacec",
   "metadata": {},
   "outputs": [
    {
     "name": "stdout",
     "output_type": "stream",
     "text": [
      "Accuracy is :  57.096774193548384\n"
     ]
    }
   ],
   "source": [
    "print(\"Accuracy is : \", accuracy_score(y_test, y_pred)*100)"
   ]
  },
  {
   "cell_type": "code",
   "execution_count": 123,
   "id": "cef1a00b",
   "metadata": {},
   "outputs": [
    {
     "data": {
      "text/plain": [
       "array([[80,  0,  0,  0, 19],\n",
       "       [ 4,  3, 18,  7,  1],\n",
       "       [10,  1, 34,  0, 13],\n",
       "       [ 6,  2, 10, 29,  2],\n",
       "       [34,  0,  6,  0, 31]], dtype=int64)"
      ]
     },
     "execution_count": 123,
     "metadata": {},
     "output_type": "execute_result"
    }
   ],
   "source": [
    "confusion_matrix(y_test,y_pred)"
   ]
  },
  {
   "cell_type": "markdown",
   "id": "f42edaa3",
   "metadata": {},
   "source": [
    "Radial SVM"
   ]
  },
  {
   "cell_type": "code",
   "execution_count": 124,
   "id": "fc32ac8c",
   "metadata": {},
   "outputs": [],
   "source": [
    "svm_radial = SVC(kernel='rbf')\n",
    "svm_radial.fit(X_train,y_train)\n",
    "y_pred=svm_radial.predict(X_test)"
   ]
  },
  {
   "cell_type": "code",
   "execution_count": 125,
   "id": "b2835a9b",
   "metadata": {},
   "outputs": [
    {
     "name": "stdout",
     "output_type": "stream",
     "text": [
      "Accuracy is :  58.70967741935483\n"
     ]
    }
   ],
   "source": [
    "print(\"Accuracy is : \", accuracy_score(y_test, y_pred)*100)"
   ]
  },
  {
   "cell_type": "code",
   "execution_count": 126,
   "id": "ada3df12",
   "metadata": {},
   "outputs": [
    {
     "data": {
      "text/plain": [
       "array([[76,  0,  0,  0, 23],\n",
       "       [ 2,  1, 19, 10,  1],\n",
       "       [ 8,  1, 32,  1, 16],\n",
       "       [ 3,  1, 11, 30,  4],\n",
       "       [22,  0,  6,  0, 43]], dtype=int64)"
      ]
     },
     "execution_count": 126,
     "metadata": {},
     "output_type": "execute_result"
    }
   ],
   "source": [
    "confusion_matrix(y_test,y_pred)"
   ]
  },
  {
   "cell_type": "markdown",
   "id": "8b93be88",
   "metadata": {},
   "source": [
    "Random Forest Classifier"
   ]
  },
  {
   "cell_type": "code",
   "execution_count": 127,
   "id": "86dc37b4",
   "metadata": {},
   "outputs": [],
   "source": [
    "from sklearn.ensemble import RandomForestClassifier\n",
    "rf=RandomForestClassifier()\n",
    "#training the model\n",
    "rf.fit(X_train,y_train)\n",
    "#to make predictions\n",
    "y_pred=rf.predict(X_test)"
   ]
  },
  {
   "cell_type": "code",
   "execution_count": 128,
   "id": "cdfac022",
   "metadata": {},
   "outputs": [
    {
     "name": "stdout",
     "output_type": "stream",
     "text": [
      "Accuracy is :  57.41935483870968\n"
     ]
    }
   ],
   "source": [
    "print(\"Accuracy is : \", accuracy_score(y_test, y_pred)*100)"
   ]
  },
  {
   "cell_type": "code",
   "execution_count": 129,
   "id": "a79f2024",
   "metadata": {},
   "outputs": [
    {
     "data": {
      "text/plain": [
       "array([[72,  2,  5,  1, 19],\n",
       "       [ 2, 11,  7, 11,  2],\n",
       "       [ 7,  7, 33,  2,  9],\n",
       "       [ 4,  3, 11, 31,  0],\n",
       "       [23,  4, 13,  0, 31]], dtype=int64)"
      ]
     },
     "execution_count": 129,
     "metadata": {},
     "output_type": "execute_result"
    }
   ],
   "source": [
    "confusion_matrix(y_test,y_pred)"
   ]
  },
  {
   "cell_type": "code",
   "execution_count": 130,
   "id": "bfb09f76",
   "metadata": {},
   "outputs": [
    {
     "data": {
      "text/plain": [
       "Effectiveness    45.746455\n",
       "Age              17.453413\n",
       "Condition        14.424769\n",
       "Race             11.362586\n",
       "EaseofUse         7.550315\n",
       "Sex               3.462461\n",
       "dtype: float64"
      ]
     },
     "execution_count": 130,
     "metadata": {},
     "output_type": "execute_result"
    }
   ],
   "source": [
    "# Feature Importance\n",
    "pd.Series(rf.feature_importances_,index=X.columns).sort_values(ascending=False)*100"
   ]
  },
  {
   "cell_type": "markdown",
   "id": "c0476cbd",
   "metadata": {},
   "source": [
    "# Hyperparameter Tuning"
   ]
  },
  {
   "cell_type": "code",
   "execution_count": 131,
   "id": "c487cb93",
   "metadata": {},
   "outputs": [
    {
     "data": {
      "text/html": [
       "<style>#sk-container-id-1 {color: black;background-color: white;}#sk-container-id-1 pre{padding: 0;}#sk-container-id-1 div.sk-toggleable {background-color: white;}#sk-container-id-1 label.sk-toggleable__label {cursor: pointer;display: block;width: 100%;margin-bottom: 0;padding: 0.3em;box-sizing: border-box;text-align: center;}#sk-container-id-1 label.sk-toggleable__label-arrow:before {content: \"▸\";float: left;margin-right: 0.25em;color: #696969;}#sk-container-id-1 label.sk-toggleable__label-arrow:hover:before {color: black;}#sk-container-id-1 div.sk-estimator:hover label.sk-toggleable__label-arrow:before {color: black;}#sk-container-id-1 div.sk-toggleable__content {max-height: 0;max-width: 0;overflow: hidden;text-align: left;background-color: #f0f8ff;}#sk-container-id-1 div.sk-toggleable__content pre {margin: 0.2em;color: black;border-radius: 0.25em;background-color: #f0f8ff;}#sk-container-id-1 input.sk-toggleable__control:checked~div.sk-toggleable__content {max-height: 200px;max-width: 100%;overflow: auto;}#sk-container-id-1 input.sk-toggleable__control:checked~label.sk-toggleable__label-arrow:before {content: \"▾\";}#sk-container-id-1 div.sk-estimator input.sk-toggleable__control:checked~label.sk-toggleable__label {background-color: #d4ebff;}#sk-container-id-1 div.sk-label input.sk-toggleable__control:checked~label.sk-toggleable__label {background-color: #d4ebff;}#sk-container-id-1 input.sk-hidden--visually {border: 0;clip: rect(1px 1px 1px 1px);clip: rect(1px, 1px, 1px, 1px);height: 1px;margin: -1px;overflow: hidden;padding: 0;position: absolute;width: 1px;}#sk-container-id-1 div.sk-estimator {font-family: monospace;background-color: #f0f8ff;border: 1px dotted black;border-radius: 0.25em;box-sizing: border-box;margin-bottom: 0.5em;}#sk-container-id-1 div.sk-estimator:hover {background-color: #d4ebff;}#sk-container-id-1 div.sk-parallel-item::after {content: \"\";width: 100%;border-bottom: 1px solid gray;flex-grow: 1;}#sk-container-id-1 div.sk-label:hover label.sk-toggleable__label {background-color: #d4ebff;}#sk-container-id-1 div.sk-serial::before {content: \"\";position: absolute;border-left: 1px solid gray;box-sizing: border-box;top: 0;bottom: 0;left: 50%;z-index: 0;}#sk-container-id-1 div.sk-serial {display: flex;flex-direction: column;align-items: center;background-color: white;padding-right: 0.2em;padding-left: 0.2em;position: relative;}#sk-container-id-1 div.sk-item {position: relative;z-index: 1;}#sk-container-id-1 div.sk-parallel {display: flex;align-items: stretch;justify-content: center;background-color: white;position: relative;}#sk-container-id-1 div.sk-item::before, #sk-container-id-1 div.sk-parallel-item::before {content: \"\";position: absolute;border-left: 1px solid gray;box-sizing: border-box;top: 0;bottom: 0;left: 50%;z-index: -1;}#sk-container-id-1 div.sk-parallel-item {display: flex;flex-direction: column;z-index: 1;position: relative;background-color: white;}#sk-container-id-1 div.sk-parallel-item:first-child::after {align-self: flex-end;width: 50%;}#sk-container-id-1 div.sk-parallel-item:last-child::after {align-self: flex-start;width: 50%;}#sk-container-id-1 div.sk-parallel-item:only-child::after {width: 0;}#sk-container-id-1 div.sk-dashed-wrapped {border: 1px dashed gray;margin: 0 0.4em 0.5em 0.4em;box-sizing: border-box;padding-bottom: 0.4em;background-color: white;}#sk-container-id-1 div.sk-label label {font-family: monospace;font-weight: bold;display: inline-block;line-height: 1.2em;}#sk-container-id-1 div.sk-label-container {text-align: center;}#sk-container-id-1 div.sk-container {/* jupyter's `normalize.less` sets `[hidden] { display: none; }` but bootstrap.min.css set `[hidden] { display: none !important; }` so we also need the `!important` here to be able to override the default hidden behavior on the sphinx rendered scikit-learn.org. See: https://github.com/scikit-learn/scikit-learn/issues/21755 */display: inline-block !important;position: relative;}#sk-container-id-1 div.sk-text-repr-fallback {display: none;}</style><div id=\"sk-container-id-1\" class=\"sk-top-container\"><div class=\"sk-text-repr-fallback\"><pre>RandomForestClassifier()</pre><b>In a Jupyter environment, please rerun this cell to show the HTML representation or trust the notebook. <br />On GitHub, the HTML representation is unable to render, please try loading this page with nbviewer.org.</b></div><div class=\"sk-container\" hidden><div class=\"sk-item\"><div class=\"sk-estimator sk-toggleable\"><input class=\"sk-toggleable__control sk-hidden--visually\" id=\"sk-estimator-id-1\" type=\"checkbox\" checked><label for=\"sk-estimator-id-1\" class=\"sk-toggleable__label sk-toggleable__label-arrow\">RandomForestClassifier</label><div class=\"sk-toggleable__content\"><pre>RandomForestClassifier()</pre></div></div></div></div></div>"
      ],
      "text/plain": [
       "RandomForestClassifier()"
      ]
     },
     "execution_count": 131,
     "metadata": {},
     "output_type": "execute_result"
    }
   ],
   "source": [
    "rf.fit(X_train,y_train)"
   ]
  },
  {
   "cell_type": "code",
   "execution_count": 132,
   "id": "8f88d8e2",
   "metadata": {},
   "outputs": [],
   "source": [
    "# creating another instance of random forest classifier with some changes in hyperparameter\n",
    "rft= RandomForestClassifier(bootstrap=True, n_estimators=1000,max_depth=8,random_state =42,criterion='entropy')"
   ]
  },
  {
   "cell_type": "code",
   "execution_count": 133,
   "id": "5d405334",
   "metadata": {},
   "outputs": [
    {
     "data": {
      "text/html": [
       "<style>#sk-container-id-2 {color: black;background-color: white;}#sk-container-id-2 pre{padding: 0;}#sk-container-id-2 div.sk-toggleable {background-color: white;}#sk-container-id-2 label.sk-toggleable__label {cursor: pointer;display: block;width: 100%;margin-bottom: 0;padding: 0.3em;box-sizing: border-box;text-align: center;}#sk-container-id-2 label.sk-toggleable__label-arrow:before {content: \"▸\";float: left;margin-right: 0.25em;color: #696969;}#sk-container-id-2 label.sk-toggleable__label-arrow:hover:before {color: black;}#sk-container-id-2 div.sk-estimator:hover label.sk-toggleable__label-arrow:before {color: black;}#sk-container-id-2 div.sk-toggleable__content {max-height: 0;max-width: 0;overflow: hidden;text-align: left;background-color: #f0f8ff;}#sk-container-id-2 div.sk-toggleable__content pre {margin: 0.2em;color: black;border-radius: 0.25em;background-color: #f0f8ff;}#sk-container-id-2 input.sk-toggleable__control:checked~div.sk-toggleable__content {max-height: 200px;max-width: 100%;overflow: auto;}#sk-container-id-2 input.sk-toggleable__control:checked~label.sk-toggleable__label-arrow:before {content: \"▾\";}#sk-container-id-2 div.sk-estimator input.sk-toggleable__control:checked~label.sk-toggleable__label {background-color: #d4ebff;}#sk-container-id-2 div.sk-label input.sk-toggleable__control:checked~label.sk-toggleable__label {background-color: #d4ebff;}#sk-container-id-2 input.sk-hidden--visually {border: 0;clip: rect(1px 1px 1px 1px);clip: rect(1px, 1px, 1px, 1px);height: 1px;margin: -1px;overflow: hidden;padding: 0;position: absolute;width: 1px;}#sk-container-id-2 div.sk-estimator {font-family: monospace;background-color: #f0f8ff;border: 1px dotted black;border-radius: 0.25em;box-sizing: border-box;margin-bottom: 0.5em;}#sk-container-id-2 div.sk-estimator:hover {background-color: #d4ebff;}#sk-container-id-2 div.sk-parallel-item::after {content: \"\";width: 100%;border-bottom: 1px solid gray;flex-grow: 1;}#sk-container-id-2 div.sk-label:hover label.sk-toggleable__label {background-color: #d4ebff;}#sk-container-id-2 div.sk-serial::before {content: \"\";position: absolute;border-left: 1px solid gray;box-sizing: border-box;top: 0;bottom: 0;left: 50%;z-index: 0;}#sk-container-id-2 div.sk-serial {display: flex;flex-direction: column;align-items: center;background-color: white;padding-right: 0.2em;padding-left: 0.2em;position: relative;}#sk-container-id-2 div.sk-item {position: relative;z-index: 1;}#sk-container-id-2 div.sk-parallel {display: flex;align-items: stretch;justify-content: center;background-color: white;position: relative;}#sk-container-id-2 div.sk-item::before, #sk-container-id-2 div.sk-parallel-item::before {content: \"\";position: absolute;border-left: 1px solid gray;box-sizing: border-box;top: 0;bottom: 0;left: 50%;z-index: -1;}#sk-container-id-2 div.sk-parallel-item {display: flex;flex-direction: column;z-index: 1;position: relative;background-color: white;}#sk-container-id-2 div.sk-parallel-item:first-child::after {align-self: flex-end;width: 50%;}#sk-container-id-2 div.sk-parallel-item:last-child::after {align-self: flex-start;width: 50%;}#sk-container-id-2 div.sk-parallel-item:only-child::after {width: 0;}#sk-container-id-2 div.sk-dashed-wrapped {border: 1px dashed gray;margin: 0 0.4em 0.5em 0.4em;box-sizing: border-box;padding-bottom: 0.4em;background-color: white;}#sk-container-id-2 div.sk-label label {font-family: monospace;font-weight: bold;display: inline-block;line-height: 1.2em;}#sk-container-id-2 div.sk-label-container {text-align: center;}#sk-container-id-2 div.sk-container {/* jupyter's `normalize.less` sets `[hidden] { display: none; }` but bootstrap.min.css set `[hidden] { display: none !important; }` so we also need the `!important` here to be able to override the default hidden behavior on the sphinx rendered scikit-learn.org. See: https://github.com/scikit-learn/scikit-learn/issues/21755 */display: inline-block !important;position: relative;}#sk-container-id-2 div.sk-text-repr-fallback {display: none;}</style><div id=\"sk-container-id-2\" class=\"sk-top-container\"><div class=\"sk-text-repr-fallback\"><pre>RandomForestClassifier(criterion=&#x27;entropy&#x27;, max_depth=8, n_estimators=1000,\n",
       "                       random_state=42)</pre><b>In a Jupyter environment, please rerun this cell to show the HTML representation or trust the notebook. <br />On GitHub, the HTML representation is unable to render, please try loading this page with nbviewer.org.</b></div><div class=\"sk-container\" hidden><div class=\"sk-item\"><div class=\"sk-estimator sk-toggleable\"><input class=\"sk-toggleable__control sk-hidden--visually\" id=\"sk-estimator-id-2\" type=\"checkbox\" checked><label for=\"sk-estimator-id-2\" class=\"sk-toggleable__label sk-toggleable__label-arrow\">RandomForestClassifier</label><div class=\"sk-toggleable__content\"><pre>RandomForestClassifier(criterion=&#x27;entropy&#x27;, max_depth=8, n_estimators=1000,\n",
       "                       random_state=42)</pre></div></div></div></div></div>"
      ],
      "text/plain": [
       "RandomForestClassifier(criterion='entropy', max_depth=8, n_estimators=1000,\n",
       "                       random_state=42)"
      ]
     },
     "execution_count": 133,
     "metadata": {},
     "output_type": "execute_result"
    }
   ],
   "source": [
    "rft.fit(X_train,y_train)"
   ]
  },
  {
   "cell_type": "code",
   "execution_count": 134,
   "id": "8ceafb01",
   "metadata": {},
   "outputs": [],
   "source": [
    "y_pred=rft.predict(X_test)"
   ]
  },
  {
   "cell_type": "code",
   "execution_count": 135,
   "id": "d488b9a2",
   "metadata": {},
   "outputs": [
    {
     "name": "stdout",
     "output_type": "stream",
     "text": [
      "Accuracy is :  60.64516129032258\n"
     ]
    }
   ],
   "source": [
    "print(\"Accuracy is : \", accuracy_score(y_test, y_pred)*100)"
   ]
  },
  {
   "cell_type": "markdown",
   "id": "ee037c29",
   "metadata": {},
   "source": [
    "Gradient Boosting"
   ]
  },
  {
   "cell_type": "code",
   "execution_count": 136,
   "id": "61c17ada",
   "metadata": {},
   "outputs": [],
   "source": [
    "from sklearn.ensemble import GradientBoostingClassifier\n",
    "gb = GradientBoostingClassifier()\n",
    "gb.fit(X_train,y_train)\n",
    "y_pred = gb.predict(X_test)"
   ]
  },
  {
   "cell_type": "code",
   "execution_count": 137,
   "id": "7b500a3f",
   "metadata": {},
   "outputs": [
    {
     "name": "stdout",
     "output_type": "stream",
     "text": [
      "Accuracy is:  62.25806451612903\n"
     ]
    }
   ],
   "source": [
    "print('Accuracy is: ',accuracy_score(y_test,y_pred)*100)"
   ]
  },
  {
   "cell_type": "code",
   "execution_count": 138,
   "id": "8a98f85b",
   "metadata": {},
   "outputs": [
    {
     "data": {
      "text/plain": [
       "array([[76,  0,  3,  0, 20],\n",
       "       [ 2, 12,  8,  9,  2],\n",
       "       [10,  3, 35,  2,  8],\n",
       "       [ 3,  4,  9, 30,  3],\n",
       "       [22,  3,  6,  0, 40]], dtype=int64)"
      ]
     },
     "execution_count": 138,
     "metadata": {},
     "output_type": "execute_result"
    }
   ],
   "source": [
    "confusion_matrix(y_test,y_pred)"
   ]
  },
  {
   "cell_type": "code",
   "execution_count": 139,
   "id": "5f06333a",
   "metadata": {},
   "outputs": [],
   "source": [
    "#residual calculation\n",
    "residuals=y_test-y_pred"
   ]
  },
  {
   "cell_type": "code",
   "execution_count": 140,
   "id": "35ab0bc2",
   "metadata": {},
   "outputs": [
    {
     "data": {
      "text/plain": [
       "<seaborn.axisgrid.FacetGrid at 0x21949ed3be0>"
      ]
     },
     "execution_count": 140,
     "metadata": {},
     "output_type": "execute_result"
    },
    {
     "data": {
      "image/png": "[encoded data removed]",
      "text/plain": [
       "<Figure size 500x500 with 1 Axes>"
      ]
     },
     "metadata": {},
     "output_type": "display_data"
    }
   ],
   "source": [
    "#plotting the residuals\n",
    "sns.displot(residuals,kind='kde')"
   ]
  },
  {
   "cell_type": "markdown",
   "id": "6be1764a",
   "metadata": {},
   "source": [
    "Extreme Gradient Boosting"
   ]
  },
  {
   "cell_type": "code",
   "execution_count": 141,
   "id": "2a17745b",
   "metadata": {},
   "outputs": [],
   "source": [
    "from xgboost import XGBClassifier\n",
    "#creating an instance\n",
    "xgb=XGBClassifier()\n",
    "xgb.fit(X_train,y_train)\n",
    "y_pred= xgb.predict(X_test)"
   ]
  },
  {
   "cell_type": "code",
   "execution_count": 142,
   "id": "f5627c83",
   "metadata": {},
   "outputs": [
    {
     "name": "stdout",
     "output_type": "stream",
     "text": [
      "Accuracy is:  59.03225806451613\n"
     ]
    }
   ],
   "source": [
    "print('Accuracy is: ',accuracy_score(y_test,y_pred)*100)"
   ]
  },
  {
   "cell_type": "code",
   "execution_count": 143,
   "id": "784c1115",
   "metadata": {},
   "outputs": [
    {
     "data": {
      "text/plain": [
       "array([[72,  1,  4,  0, 22],\n",
       "       [ 2, 13,  6, 10,  2],\n",
       "       [ 8,  7, 30,  5,  8],\n",
       "       [ 4,  3,  9, 32,  1],\n",
       "       [21,  5,  9,  0, 36]], dtype=int64)"
      ]
     },
     "execution_count": 143,
     "metadata": {},
     "output_type": "execute_result"
    }
   ],
   "source": [
    "confusion_matrix(y_test,y_pred)"
   ]
  },
  {
   "cell_type": "code",
   "execution_count": 144,
   "id": "c434704d",
   "metadata": {},
   "outputs": [
    {
     "data": {
      "text/plain": [
       "<matplotlib.collections.PathCollection at 0x2194b36e220>"
      ]
     },
     "execution_count": 144,
     "metadata": {},
     "output_type": "execute_result"
    },
    {
     "data": {
      "image/png": "[encoded data removed]",
      "text/plain": [
       "<Figure size 640x480 with 1 Axes>"
      ]
     },
     "metadata": {},
     "output_type": "display_data"
    }
   ],
   "source": [
    "#plotting scatter plot for the predictions\n",
    "plt.scatter(y_test,y_pred)"
   ]
  },
  {
   "cell_type": "code",
   "execution_count": 145,
   "id": "6630d962",
   "metadata": {},
   "outputs": [],
   "source": [
    "#residual calculation\n",
    "residuals=y_test-y_pred"
   ]
  },
  {
   "cell_type": "code",
   "execution_count": 146,
   "id": "1e9ac294",
   "metadata": {},
   "outputs": [
    {
     "data": {
      "text/plain": [
       "<seaborn.axisgrid.FacetGrid at 0x2194949af40>"
      ]
     },
     "execution_count": 146,
     "metadata": {},
     "output_type": "execute_result"
    },
    {
     "data": {
      "image/png": "[encoded data removed]",
      "text/plain": [
       "<Figure size 500x500 with 1 Axes>"
      ]
     },
     "metadata": {},
     "output_type": "display_data"
    }
   ],
   "source": [
    "#plotting the residuals\n",
    "sns.displot(residuals,kind='kde')"
   ]
  },
  {
   "cell_type": "code",
   "execution_count": 147,
   "id": "e25ab367",
   "metadata": {},
   "outputs": [
    {
     "data": {
      "text/plain": [
       "<matplotlib.collections.PathCollection at 0x2194b3ffcd0>"
      ]
     },
     "execution_count": 147,
     "metadata": {},
     "output_type": "execute_result"
    },
    {
     "data": {
      "image/png": "[encoded data removed]",
      "text/plain": [
       "<Figure size 640x480 with 1 Axes>"
      ]
     },
     "metadata": {},
     "output_type": "display_data"
    }
   ],
   "source": [
    "#plotting sactter plots wrt prediction and residuals\n",
    "plt.scatter(y_pred,residuals)"
   ]
  },
  {
   "cell_type": "code",
   "execution_count": null,
   "id": "90e1370f",
   "metadata": {},
   "outputs": [],
   "source": []
  }
 ],
 "metadata": {
  "kernelspec": {
   "display_name": "Python 3 (ipykernel)",
   "language": "python",
   "name": "python3"
  },
  "language_info": {
   "codemirror_mode": {
    "name": "ipython",
    "version": 3
   },
   "file_extension": ".py",
   "mimetype": "text/x-python",
   "name": "python",
   "nbconvert_exporter": "python",
   "pygments_lexer": "ipython3",
   "version": "3.9.13"
  }
 },
 "nbformat": 4,
 "nbformat_minor": 5
}
